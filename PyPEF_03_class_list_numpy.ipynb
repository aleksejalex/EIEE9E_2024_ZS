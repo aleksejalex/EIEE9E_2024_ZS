{
  "cells": [
    {
      "cell_type": "markdown",
      "metadata": {
        "id": "view-in-github",
        "colab_type": "text"
      },
      "source": [
        "<a href=\"https://colab.research.google.com/github/aleksejalex/EIEE9E_2024_ZS/blob/main/PyPEF_03_class_list_numpy.ipynb\" target=\"_parent\"><img src=\"https://colab.research.google.com/assets/colab-badge.svg\" alt=\"Open In Colab\"/></a>"
      ]
    },
    {
      "cell_type": "markdown",
      "metadata": {
        "id": "BJ38-zM8iNpQ"
      },
      "source": [
        "# PyPEF, lecture 03. Classes and light intro to OOP. Containers.\n",
        "\n",
        "Prepared by: Aleksej Gaj ( pythonforstudents24@gmail.com )\n",
        "\n",
        "🔗 Course website: [https://aleksejgaj.cz/pef_python/](https://aleksejgaj.cz/pef_python/)\n"
      ]
    },
    {
      "cell_type": "markdown",
      "metadata": {
        "id": "ZEI2YaSwiPFc"
      },
      "source": [
        "In this tutorial we familiarize ourselves with\n",
        " - classes - a brief introduction\n",
        " - containers (`list`, `tuple`, `set`, `dict`, `str`)\n"
      ]
    },
    {
      "cell_type": "markdown",
      "source": [
        "### 🕓 Recall from last time\n",
        "\n",
        " - `if` statements - *to switch code flow based on conditions*:\n",
        "    ```python\n",
        "    if use_age > 18:\n",
        "        print(\"You are adult. 😔 \")\n",
        "    else:\n",
        "        print(\"Enjoy your childhood! 🥳\")\n",
        "    ```\n",
        "\n",
        " - `for` loop - *to perform some operation for given amount of runs/items*:\n",
        "    ```python\n",
        "    shopping_cart = [milk, bananas, red_wine]\n",
        "    for item in shopping_cart:\n",
        "        total_price = total_price + get_price(item)\n",
        "    ```\n",
        "\n",
        " - `while` loop - *to perform some operation until condition is violated*:\n",
        "    ```python\n",
        "    while is_raining == True:\n",
        "        print(\"You should stay inside. 🌧️\")\n",
        "    ```    \n",
        "    \n",
        " - functions (`def`) - *a piece of code with input, output and specific intention*:\n",
        "    ```python\n",
        "    def tip_calculator(total, percentage):\n",
        "        tip = total * (percentage / 100);\n",
        "        return total + tip\n",
        "    ```    \n",
        "\n",
        "🚨 Don't forget to use **indentation** (block structure) where necessary!\n",
        "\n"
      ],
      "metadata": {
        "id": "arqjLHNDwdN4"
      }
    },
    {
      "cell_type": "markdown",
      "source": [
        "### ✍️ Try it yourself!\n",
        "task: implement a game \"Guess a number\".\n",
        "\n",
        "Program has to do following steps:\n",
        " - choose a random integer between 1 and 10 (pre-prepared below)\n",
        " - user has to guess the number (ask user for the guess)\n",
        " - game ends *either* when user guesses correctly or when user gives up.\n",
        "\n",
        "Hint: use `while` loop with composite condition.\n",
        "  "
      ],
      "metadata": {
        "id": "1J56BcqlzRH9"
      }
    },
    {
      "cell_type": "code",
      "source": [
        "True and False # hint 1"
      ],
      "metadata": {
        "colab": {
          "base_uri": "https://localhost:8080/"
        },
        "id": "XakH09UrzYyq",
        "outputId": "af5417de-aef5-4437-c397-437aa82a2324"
      },
      "execution_count": 1,
      "outputs": [
        {
          "output_type": "execute_result",
          "data": {
            "text/plain": [
              "False"
            ]
          },
          "metadata": {},
          "execution_count": 1
        }
      ]
    },
    {
      "cell_type": "code",
      "source": [
        "import random\n",
        "number = random.choice(range(1,11)) # how to get random number\n",
        "print(number)"
      ],
      "metadata": {
        "colab": {
          "base_uri": "https://localhost:8080/"
        },
        "id": "CpOdGAZ3zaib",
        "outputId": "95af7f1d-fa30-4dac-ff8e-d04faea689d0"
      },
      "execution_count": 2,
      "outputs": [
        {
          "output_type": "stream",
          "name": "stdout",
          "text": [
            "3\n"
          ]
        }
      ]
    },
    {
      "cell_type": "code",
      "source": [
        "# your code here ..."
      ],
      "metadata": {
        "id": "xiEN74kRzb9W"
      },
      "execution_count": 3,
      "outputs": []
    },
    {
      "cell_type": "markdown",
      "source": [
        "### ✍️ Try it yourself!\n",
        "Write yourself a function that will take a value in euros (EUR) and return a value in czech korunas (CZK).\n",
        "\n",
        "Even if it looks trivial, try to keep all the formalities (comments, checks for incorrect input, etc.)."
      ],
      "metadata": {
        "id": "4uReeZBnzhLd"
      }
    },
    {
      "cell_type": "code",
      "source": [
        "# your code here ..."
      ],
      "metadata": {
        "id": "JeNevMSezi6N"
      },
      "execution_count": 4,
      "outputs": []
    },
    {
      "cell_type": "code",
      "source": [],
      "metadata": {
        "id": "MWDbnr59ziqM"
      },
      "execution_count": 4,
      "outputs": []
    },
    {
      "cell_type": "markdown",
      "source": [
        "### One-liners again: `lambda` functions\n",
        "\n",
        " - function defined in one line\n",
        " - keyword `lambda`\n",
        " - **any number of input arguments, but only one expression**\n",
        "\n",
        "```\n",
        "NAME_OF_FUNC = lambda ARG1, ARG2: EXPRESSION return VALUE\n",
        "```"
      ],
      "metadata": {
        "id": "heBBtix_zoBz"
      }
    },
    {
      "cell_type": "markdown",
      "metadata": {
        "id": "wEIHfEJeBtWE"
      },
      "source": [
        "### ✅ Solution of the task 1:\n",
        "**task (was):** implement a game \"Guess a number\".\n",
        "\n",
        "Program has to do following steps:\n",
        " - choose a random integer between 1 and 10 (pre-prepared below)\n",
        " - user has to guess the number (ask user for the guess)\n",
        " - game ends *either* when user guesses correctly or when user gives up.\n",
        "\n",
        "Hint: use `while` loop with composite condition.\n",
        "  "
      ]
    },
    {
      "cell_type": "code",
      "execution_count": 5,
      "metadata": {
        "id": "dvHdQJ6EBtWE",
        "colab": {
          "base_uri": "https://localhost:8080/"
        },
        "outputId": "5bbeeae9-66ac-43ed-c5d3-62eb4bdc5c97"
      },
      "outputs": [
        {
          "output_type": "execute_result",
          "data": {
            "text/plain": [
              "False"
            ]
          },
          "metadata": {},
          "execution_count": 5
        }
      ],
      "source": [
        "True and False"
      ]
    },
    {
      "cell_type": "code",
      "execution_count": 6,
      "metadata": {
        "id": "RVI12mLWBtWE",
        "colab": {
          "base_uri": "https://localhost:8080/"
        },
        "outputId": "960bab2f-2a42-44a5-c026-10430da6065b"
      },
      "outputs": [
        {
          "output_type": "stream",
          "name": "stdout",
          "text": [
            "Guess a number between 1 and 10 (or type 'stop' to end) --> 2\n",
            "You entered: 2. That's not the number, try again.\n",
            "Guess a number between 1 and 10 (or type 'stop' to end) --> 1\n",
            "You entered: 1. That's not the number, try again.\n",
            "Guess a number between 1 and 10 (or type 'stop' to end) --> 3\n",
            "You entered: 3. That's not the number, try again.\n",
            "Guess a number between 1 and 10 (or type 'stop' to end) --> 4\n",
            "You entered: 4. That's not the number, try again.\n",
            "Guess a number between 1 and 10 (or type 'stop' to end) --> 5\n",
            "You entered: 5. That's not the number, try again.\n",
            "Guess a number between 1 and 10 (or type 'stop' to end) --> 6\n",
            "You entered: 6. That's not the number, try again.\n",
            "Guess a number between 1 and 10 (or type 'stop' to end) --> 7\n",
            "You entered: 7. That's not the number, try again.\n",
            "Congratulations! You've guessed right!\n"
          ]
        }
      ],
      "source": [
        "import random\n",
        "rand_num = random.randrange(1, 11) # returns random int between 1 and 10 including\n",
        "\n",
        "user_wants_to_play = True\n",
        "not_guessed = True\n",
        "guess = None\n",
        "\n",
        "while user_wants_to_play and not_guessed: #both of these must be true to continue playing\n",
        "    guess = input(\"Guess a number between 1 and 10 (or type 'stop' to end) --> \")\n",
        "    if guess == \"stop\":\n",
        "        print(f\"Finishing game...\")\n",
        "        user_wants_to_play = False\n",
        "    else:\n",
        "        print(f\"You entered: {guess}. That's not the number, try again.\")\n",
        "        if int(guess) == rand_num:\n",
        "            not_guessed = False\n",
        "\n",
        "if not_guessed == False:\n",
        "    print(f\"Congratulations! You've guessed right!\")\n",
        "else:\n",
        "    print(f\"The number was {rand_num}..\")\n"
      ]
    },
    {
      "cell_type": "markdown",
      "source": [
        "✨ No matterwhat are you preparing - a Python program, a report, an email - one always should be aware of *who is the target* user/reader.\n",
        "\n",
        "Frequently, users tend to use programs differently then it was intended by the creator. For example, if the program works with MS Excel files, they will try to pass PDF. If the program needs an integer as input, a string is passed... and so on.\n",
        "\n",
        "➡️ That's why checks do matter."
      ],
      "metadata": {
        "id": "1rVnApDM1764"
      }
    },
    {
      "cell_type": "code",
      "source": [],
      "metadata": {
        "id": "TuWZGdr615Na"
      },
      "execution_count": null,
      "outputs": []
    },
    {
      "cell_type": "code",
      "execution_count": 7,
      "metadata": {
        "id": "VQNnm-dLG-X7",
        "colab": {
          "base_uri": "https://localhost:8080/"
        },
        "outputId": "7472307f-47c7-4fef-e486-1280993eb0b8"
      },
      "outputs": [
        {
          "output_type": "stream",
          "name": "stdout",
          "text": [
            "Welcome to the Guess a Number game!\n",
            "I've chosen a number between 1 and 10. Can you guess what it is?\n",
            "Enter your guess (or type 'give up' to give up): 7\n",
            "Sorry, that's not the number. Try again!\n",
            "Enter your guess (or type 'give up' to give up): 65\n",
            "Please enter a number between 1 and 10.\n",
            "Enter your guess (or type 'give up' to give up): 6\n",
            "Sorry, that's not the number. Try again!\n",
            "Enter your guess (or type 'give up' to give up): 5\n",
            "Sorry, that's not the number. Try again!\n",
            "Enter your guess (or type 'give up' to give up): 4\n",
            "Sorry, that's not the number. Try again!\n",
            "Enter your guess (or type 'give up' to give up): 3\n",
            "Congratulations! You've guessed the number 3 in 6 attempts!\n"
          ]
        }
      ],
      "source": [
        "import random\n",
        "\n",
        "print(\"Welcome to the Guess a Number game!\")\n",
        "print(\"I've chosen a number between 1 and 10. Can you guess what it is?\")\n",
        "\n",
        "target_number = random.randint(1, 10)\n",
        "guessed_correctly = False\n",
        "attempts = 0\n",
        "\n",
        "while not guessed_correctly:\n",
        "    user_guess = input(\"Enter your guess (or type 'give up' to give up): \")\n",
        "\n",
        "    if user_guess.lower() == 'give up':\n",
        "        print(f\"Sorry, the number I was thinking of was {target_number}. Better luck next time!\")\n",
        "        break\n",
        "\n",
        "    if not user_guess.isdigit():\n",
        "        print(\"Invalid input. Please enter a valid number between 1 and 10, or 'give up'.\")\n",
        "        continue\n",
        "\n",
        "    guess = int(user_guess)\n",
        "    attempts += 1\n",
        "\n",
        "    if guess == target_number:\n",
        "        print(f\"Congratulations! You've guessed the number {target_number} in {attempts} attempts!\")\n",
        "        guessed_correctly = True\n",
        "    elif guess < 1 or guess > 10:\n",
        "        print(\"Please enter a number between 1 and 10.\")\n",
        "    else:\n",
        "        print(\"Sorry, that's not the number. Try again!\")\n"
      ]
    },
    {
      "cell_type": "markdown",
      "metadata": {
        "id": "7O0HzfUvhvmM"
      },
      "source": [
        "### ✅ Solution of the task 2:\n",
        "**task (was):** Write yourself a function that will take a value in euros (EUR) and return a value in czech korunas (CZK).\n",
        "\n",
        "Even if it looks trivial, try to keep all the formalities (comments, checks for incorrect input, etc.)."
      ]
    },
    {
      "cell_type": "code",
      "execution_count": 33,
      "metadata": {
        "id": "fE6j_GIthvmN",
        "colab": {
          "base_uri": "https://localhost:8080/"
        },
        "outputId": "ea635aba-2db2-49d0-d33e-0fad84ecac90"
      },
      "outputs": [
        {
          "output_type": "stream",
          "name": "stdout",
          "text": [
            "25.37\n",
            "2537.0\n",
            "ERROR: inputted value is not numerical!\n",
            "None\n",
            "-253.70000000000002\n"
          ]
        }
      ],
      "source": [
        "def convert_eur_to_czk(value: float, ex_rate: float = 25.37):\n",
        "    \"\"\"\n",
        "    function that converts value in EUR to CZK (based on exchange rate)\n",
        "    input:\n",
        "     - `value` (float) ... the value in EUR\n",
        "     - `ex_rate`(float)... the exchange rate (if not specified, a default value will be used)\n",
        "    \"\"\"\n",
        "    # at first, let's check the input is valid\n",
        "    if not (type(value) is float or type(value) is int):\n",
        "        print(\"ERROR: inputted value is not numerical!\")\n",
        "        return None\n",
        "    # similar check for `ex_rate` can be considered. Also we can avoid negative numbers if we want.\n",
        "    # return value:\n",
        "    return value * ex_rate\n",
        "\n",
        "#let's try:\n",
        "print(convert_eur_to_czk(1))\n",
        "print(convert_eur_to_czk(100))\n",
        "print(convert_eur_to_czk(\"100\"))\n",
        "print(convert_eur_to_czk(-10))"
      ]
    },
    {
      "cell_type": "code",
      "execution_count": 9,
      "metadata": {
        "id": "NQ4MLWDkhvmO",
        "colab": {
          "base_uri": "https://localhost:8080/"
        },
        "outputId": "b2430e4b-35f5-4b50-fc49-eec4e5064ca6"
      },
      "outputs": [
        {
          "output_type": "execute_result",
          "data": {
            "text/plain": [
              "True"
            ]
          },
          "metadata": {},
          "execution_count": 9
        }
      ],
      "source": [
        "def is_numeric(x):\n",
        "    if type(x) is float or type(x) is int:\n",
        "        return True\n",
        "    return False\n",
        "\n",
        "is_numeric(123.789)"
      ]
    },
    {
      "cell_type": "code",
      "source": [
        "is_numeric('a')"
      ],
      "metadata": {
        "id": "pfG8MpcdiEll",
        "colab": {
          "base_uri": "https://localhost:8080/"
        },
        "outputId": "732efcec-b0b2-4a1c-e4c1-8d8ca83b491d"
      },
      "execution_count": 10,
      "outputs": [
        {
          "output_type": "execute_result",
          "data": {
            "text/plain": [
              "False"
            ]
          },
          "metadata": {},
          "execution_count": 10
        }
      ]
    },
    {
      "cell_type": "markdown",
      "metadata": {
        "id": "LakQiQqYDR_S"
      },
      "source": [
        "### ✍️ Try it yourself:\n",
        "\n",
        "**task:** implement a function that will divide two numbers. \\\n",
        "It should take two mandatory arguments (the numbers to be divided) and a boolean value representing whether we want the float division or floor division (cz. *celočíselné dělení*). By default function should do float division.\n",
        "\n",
        ">> Hint: floor division can be done by `//` operator in Python, example: `10 // 3 = 3`"
      ]
    },
    {
      "cell_type": "code",
      "execution_count": 11,
      "metadata": {
        "id": "mIatClWwBtWJ"
      },
      "outputs": [],
      "source": [
        "def my_division():\n",
        "    pass"
      ]
    },
    {
      "cell_type": "code",
      "execution_count": 12,
      "metadata": {
        "id": "4juwzab6FU-z",
        "colab": {
          "base_uri": "https://localhost:8080/"
        },
        "outputId": "c22e1488-87b7-420e-addf-3e96952515af"
      },
      "outputs": [
        {
          "output_type": "stream",
          "name": "stdout",
          "text": [
            "Float division of 7 by 3:  Ellipsis\n",
            "Integer division of 7 by 3:  Ellipsis\n"
          ]
        }
      ],
      "source": [
        "a = 7\n",
        "b = 3\n",
        "print(f\"Float division of {a} by {b}:  {...}\")\n",
        "print(f\"Integer division of {a} by {b}:  {...}\")"
      ]
    },
    {
      "cell_type": "markdown",
      "source": [
        "### One-liners again: `lambda` functions\n",
        "\n",
        " - function defined in one line\n",
        " - keyword `lambda`\n",
        " - **any number of input arguments, but only one expression**\n",
        "\n",
        "```\n",
        "NAME_OF_FUNC = lambda ARG1, ARG2: EXPRESSION return VALUE\n",
        "```"
      ],
      "metadata": {
        "id": "z3CfbJrK0jro"
      }
    },
    {
      "cell_type": "code",
      "source": [
        "square = lambda x: x ** 2\n",
        "print(square(5))"
      ],
      "metadata": {
        "colab": {
          "base_uri": "https://localhost:8080/"
        },
        "id": "qd63hykI0lwc",
        "outputId": "6ab1aa83-8157-4e7a-ffe2-d117d987eafc"
      },
      "execution_count": 13,
      "outputs": [
        {
          "output_type": "stream",
          "name": "stdout",
          "text": [
            "25\n"
          ]
        }
      ]
    },
    {
      "cell_type": "code",
      "source": [
        "is_dividable = lambda x, y: True if x % y == 0 else False\n",
        "\n",
        "print(f\" 3 is dividable by 2 : {is_dividable(3,2)}\")\n",
        "print(f\" 4 is dividable by 2 : {is_dividable(4,2)}\")"
      ],
      "metadata": {
        "colab": {
          "base_uri": "https://localhost:8080/"
        },
        "id": "KWd1ZLoW0nhc",
        "outputId": "95351c12-4114-42f3-d037-b2ab43ec8ac8"
      },
      "execution_count": 14,
      "outputs": [
        {
          "output_type": "stream",
          "name": "stdout",
          "text": [
            " 3 is dividable by 2 : False\n",
            " 4 is dividable by 2 : True\n"
          ]
        }
      ]
    },
    {
      "cell_type": "code",
      "source": [
        "def count_vowels(string):\n",
        "    vowels = \"aeiouAEIOU\"\n",
        "    count = sum(1 for char in string if char in vowels)\n",
        "    return count\n",
        "\n",
        "# Example usage\n",
        "print(count_vowels(\"hello world\"))"
      ],
      "metadata": {
        "colab": {
          "base_uri": "https://localhost:8080/"
        },
        "id": "fPJPfbps0qgh",
        "outputId": "4aa55977-bddf-4794-9026-26d3666f9239"
      },
      "execution_count": 15,
      "outputs": [
        {
          "output_type": "stream",
          "name": "stdout",
          "text": [
            "3\n"
          ]
        }
      ]
    },
    {
      "cell_type": "markdown",
      "metadata": {
        "id": "WhWe7IH4BtWJ"
      },
      "source": [
        "## Classes (continuation from last time).\n",
        "\n",
        "= a \"blueprint\" to create objects\n",
        "\n",
        " - defines the properties (attributes) and behaviors (methods) that objects of that class will have\n",
        "\n",
        "Example:\n",
        "Let's imagine we create cats.\n",
        "\n",
        "<img src=\"https://aleksejalex.4fan.cz/pef_python/img/blueprint_of_cat_and_a_cat4.jpeg\" alt=\"creating different cats from same blueprint\" width=\"300\">\n",
        "\n",
        "\n"
      ]
    },
    {
      "cell_type": "code",
      "execution_count": 16,
      "metadata": {
        "id": "of15mdOyBtWJ"
      },
      "outputs": [],
      "source": [
        "class Cat:\n",
        "    def __init__(self, given_name, colour, weight = 12000):\n",
        "        self.name = given_name\n",
        "        self.colour = colour\n",
        "        self.weight = weight  # weight in grams\n",
        "        self.gender = 'male'\n",
        "\n",
        "    def eat(self, amount_of_food):\n",
        "        \"\"\"when it eats, it gains weight\"\"\"\n",
        "        self.weight = self.weight + amount_of_food\n",
        "\n",
        "    def run_around(self, distance = 1):\n",
        "        \"\"\"each km of running makes cat loose 200gr of weight\"\"\"\n",
        "        self.weight = self.weight - 200*distance\n",
        "\n",
        "    def say(self, what_to_say: str = \"meoOow\"):\n",
        "        \"\"\"makes your cat talk\"\"\"\n",
        "        print(f\"Cat {self.name} says: {what_to_say}.\")\n"
      ]
    },
    {
      "cell_type": "code",
      "execution_count": 17,
      "metadata": {
        "id": "TolOpE2kBtWK",
        "colab": {
          "base_uri": "https://localhost:8080/"
        },
        "outputId": "e3133e60-616e-46ff-a459-c3a63d2371a6"
      },
      "outputs": [
        {
          "output_type": "stream",
          "name": "stdout",
          "text": [
            "<__main__.Cat object at 0x7c7a453779e0>\n"
          ]
        }
      ],
      "source": [
        "# define my cat\n",
        "my_cat = Cat(\"Puss\", \"orange\")  # only name was mandatory property\n",
        "\n",
        "print(my_cat)  # just object in memory"
      ]
    },
    {
      "cell_type": "code",
      "execution_count": 18,
      "metadata": {
        "id": "-UOewAbsBtWK",
        "colab": {
          "base_uri": "https://localhost:8080/"
        },
        "outputId": "f11fd313-42c0-44c8-8f75-4b05fc8789eb"
      },
      "outputs": [
        {
          "output_type": "stream",
          "name": "stdout",
          "text": [
            "Puss\n",
            "12000\n"
          ]
        }
      ],
      "source": [
        "# Properties of my cat\n",
        "print(my_cat.name)\n",
        "print(my_cat.weight)"
      ]
    },
    {
      "cell_type": "code",
      "execution_count": 19,
      "metadata": {
        "id": "SBvrcpAwBtWK",
        "colab": {
          "base_uri": "https://localhost:8080/"
        },
        "outputId": "140e319f-d9e6-448d-e15e-7bca2f7c1a10"
      },
      "outputs": [
        {
          "output_type": "stream",
          "name": "stdout",
          "text": [
            "Cat Puss says: I'm hungry!.\n"
          ]
        }
      ],
      "source": [
        "# let the cat speak for itself:\n",
        "my_cat.say(\"I'm hungry!\")"
      ]
    },
    {
      "cell_type": "code",
      "execution_count": 20,
      "metadata": {
        "id": "XSGxySXXBtWK",
        "colab": {
          "base_uri": "https://localhost:8080/"
        },
        "outputId": "a129353f-4b08-4723-b74f-8c761ab5620b"
      },
      "outputs": [
        {
          "output_type": "stream",
          "name": "stdout",
          "text": [
            "12250\n"
          ]
        }
      ],
      "source": [
        "my_cat.eat(250) # cat eat a tuna can (250grams)\n",
        "print(my_cat.weight)"
      ]
    },
    {
      "cell_type": "markdown",
      "metadata": {
        "id": "I-UTkFb6BtWK"
      },
      "source": [
        "Let's see how our cat burns calories:"
      ]
    },
    {
      "cell_type": "code",
      "execution_count": 21,
      "metadata": {
        "id": "9mlqjIOcBtWL",
        "colab": {
          "base_uri": "https://localhost:8080/"
        },
        "outputId": "5815ce0e-a241-4bb7-9038-e5ddbe579113"
      },
      "outputs": [
        {
          "output_type": "stream",
          "name": "stdout",
          "text": [
            "11650\n"
          ]
        }
      ],
      "source": [
        "my_cat.run_around(3)  # let it run 3 km\n",
        "print(my_cat.weight)"
      ]
    },
    {
      "cell_type": "code",
      "execution_count": 22,
      "metadata": {
        "id": "SbmX8o5dBtWL"
      },
      "outputs": [],
      "source": [
        "neibourghs_cat = Cat(given_name=\"Mathilda\", colour=\"black\", weight=7000)\n"
      ]
    },
    {
      "cell_type": "markdown",
      "metadata": {
        "id": "Fqsn88K7BtWL"
      },
      "source": [
        "### ✍️ Optional homework\n",
        "task: implement a class `Car` and build a garage of your dreams.\n",
        "\n",
        "Technically: `Car` should have some properties (for example: `name`, `license_plate`, `condition`, `color`, `consumption`, ...) and methods (for example: `drive_to()`, `repaint()`, `clean_up()`, `fill_tank()`, ...)\n",
        "\n",
        "Play with those a little to get used to:\n",
        " - defining a class\n",
        " - creating instances (with optional arguments)\n",
        " - using them\n",
        "\n",
        " (of course you can choose any other example, it doesn't have to be `Car` class)"
      ]
    },
    {
      "cell_type": "code",
      "execution_count": 23,
      "metadata": {
        "id": "TcePwVIPGOSj"
      },
      "outputs": [],
      "source": [
        "# your code here ..."
      ]
    },
    {
      "cell_type": "markdown",
      "metadata": {
        "id": "CsS_W8B1BtV5"
      },
      "source": [
        "## Containers.\n",
        "Python uses several containers:\n",
        " - list\n",
        "\n",
        "\n",
        "| Type         | Description                                | Example                   |\n",
        "|--------------|--------------------------------------------|---------------------------|\n",
        "| list         | Ordered collection of items                | `my_list = [1, 2, 3]`     |\n",
        "| tuple        | Immutable ordered collection of items      | `my_tuple = (1, 2, 3)`    |\n",
        "| set          | Unordered collection of unique items       | `my_set = {1, 2, 3}`      |\n",
        "| dict         | Collection of key-value pairs              | `my_dict = {'eggs': 6, 'apples': 3, 'cookies': \"chocolate\"}`|\n"
      ]
    },
    {
      "cell_type": "markdown",
      "metadata": {
        "id": "WXUUiZ0XBtV5"
      },
      "source": [
        "Properties:"
      ]
    },
    {
      "cell_type": "markdown",
      "metadata": {
        "id": "nZ7EOuY8BtV6"
      },
      "source": [
        "| Type   | Ordered?          | Can add new elements?  | Can contain duplicates?  | Example                                                       |\n",
        "|--------|-------------------|------------------------|--------------------------|--------------------------------------------------------------|\n",
        "| list   | ✅                | ✅ (via `.add()`)      | ✅                       | `my_list = [1, 2, 3]`                                        |\n",
        "| tuple  | ✅                | ❌                     | ✅                       | `my_tuple = (1, 2, 3)`                                       |\n",
        "| set    | ❌                | 🟠 (via `.union()`)    | ❌                       | `my_set = {1, 2, 3}`                                         |\n",
        "| dict   | ✅ (newer Python) | 🟠 (via `.update()`)   | ❌                       | `my_dict = {'eggs': 6, 'apples': 3, 'cookies': \"chocolate\"}` |\n",
        "| str    | ✅                | 🟠 (via `concat()`)    | ✅                       | `my_string = \"Hello 2024!\"`                                  |\n"
      ]
    },
    {
      "cell_type": "markdown",
      "metadata": {
        "id": "baUcdVNOBtV6"
      },
      "source": [
        "🚧 Note about **object-oriented programming** (OOP):\n",
        "\n",
        "In OOP, objects are instances of classes. A class defines the structure and behavior of objects, while objects themselves contain data and code (values/properties and methods/procedures).\n",
        "\n",
        "*Example* (try it yourself!):\n",
        "> object name: `capital_city` \\\n",
        "> object type: `str` \\\n",
        "> value : `\"prague\"` \\\n",
        "> method/procedure: `capitalize()`\n",
        "\n",
        "\n",
        "\n",
        "Method/procedure is a function that\n",
        " - either changes the object itself (its data),\n",
        " - or returns a value\n",
        "\n",
        "\n",
        "In Python **everything is considered to be an object!**  "
      ]
    },
    {
      "cell_type": "code",
      "execution_count": 24,
      "metadata": {
        "id": "cCMEAfNiBtV7",
        "colab": {
          "base_uri": "https://localhost:8080/"
        },
        "outputId": "03e6d44a-363d-42ae-d4ce-0966e5705b01"
      },
      "outputs": [
        {
          "output_type": "stream",
          "name": "stdout",
          "text": [
            "[2, 3, 3, 'abc123', 3.14, 'cookie']\n"
          ]
        }
      ],
      "source": [
        "# list ... most common, universal\n",
        "a_list = [2, 3, 3, 'abc123', 3.14]\n",
        "a_list.append(\"cookie\")\n",
        "print(a_list)"
      ]
    },
    {
      "cell_type": "markdown",
      "metadata": {
        "id": "14VzDgrjBtV7"
      },
      "source": [
        "🚨 Note: By default Python indexes from zero:"
      ]
    },
    {
      "cell_type": "code",
      "execution_count": 25,
      "metadata": {
        "id": "PT79Ngl2BtV8",
        "colab": {
          "base_uri": "https://localhost:8080/"
        },
        "outputId": "df18172c-be2f-415f-e236-8f6d180677a0"
      },
      "outputs": [
        {
          "output_type": "stream",
          "name": "stdout",
          "text": [
            "a_list = [2, 3, 3, 'abc123', 3.14, 'cookie']\n",
            "a_list[0] = 2\n",
            "a_list[1] = 3\n",
            "a_list[:1] = [2]\n",
            "a_list[1:] = [3, 3, 'abc123', 3.14, 'cookie']\n"
          ]
        }
      ],
      "source": [
        "print(f'a_list = {a_list}')\n",
        "print(f'a_list[0] = {a_list[0]}')\n",
        "print(f'a_list[1] = {a_list[1]}')\n",
        "print(f'a_list[:1] = {a_list[:1]}')\n",
        "print(f'a_list[1:] = {a_list[1:]}')"
      ]
    },
    {
      "cell_type": "code",
      "execution_count": 26,
      "metadata": {
        "id": "tcMVfyi-BtV8",
        "colab": {
          "base_uri": "https://localhost:8080/"
        },
        "outputId": "b8924999-9b44-4fc8-d837-ff36c7b61adb"
      },
      "outputs": [
        {
          "output_type": "stream",
          "name": "stdout",
          "text": [
            "(2, 3, 3, 3.14, 'abc123')\n",
            "Which index corresponds to element 'abc123'? --> 4\n"
          ]
        }
      ],
      "source": [
        "# tuple ... 'n-tice' in Czech\n",
        "a_tuple = (2, 3, 3, 3.14, 'abc123')\n",
        "print(a_tuple)\n",
        "print(f\"Which index corresponds to element 'abc123'? --> {a_tuple.index('abc123')}\")"
      ]
    },
    {
      "cell_type": "code",
      "execution_count": 27,
      "metadata": {
        "id": "KyjRZVDIBtV8",
        "colab": {
          "base_uri": "https://localhost:8080/"
        },
        "outputId": "910d3858-b4bf-49ac-d730-d7892f00ce01"
      },
      "outputs": [
        {
          "output_type": "stream",
          "name": "stdout",
          "text": [
            "{3.14, 2, 3, '123'}\n",
            "{'b', 2, 3.14, 3, '123'}\n"
          ]
        }
      ],
      "source": [
        "# set ... just as in mathematics\n",
        "a_set = {2, 3, 3.14, '123', 3}  # note that set cannot contain duplicates\n",
        "print(a_set)\n",
        "b_set = {2, 'b'}\n",
        "a_set = a_set.union(b_set)\n",
        "print(a_set)"
      ]
    },
    {
      "cell_type": "code",
      "execution_count": 28,
      "metadata": {
        "id": "cY8apdFGBtV9",
        "colab": {
          "base_uri": "https://localhost:8080/"
        },
        "outputId": "22ab5a2e-9c9a-46aa-8285-c17fce458870"
      },
      "outputs": [
        {
          "output_type": "stream",
          "name": "stdout",
          "text": [
            "{'eggs': 3, 'flour': '200 gr', 'milk': 0.35}\n"
          ]
        }
      ],
      "source": [
        "# dict ... dictionary\n",
        "a_dict = {'eggs': 3, 'flour': \"200 gr\", 'milk': 0.35}\n",
        "print(a_dict)"
      ]
    },
    {
      "cell_type": "code",
      "execution_count": 29,
      "metadata": {
        "id": "Hr_fuR5mBtV9",
        "colab": {
          "base_uri": "https://localhost:8080/"
        },
        "outputId": "1442187c-8a66-49c2-e4e5-b0490e2875ec"
      },
      "outputs": [
        {
          "output_type": "stream",
          "name": "stdout",
          "text": [
            "{'eggs': 3, 'flour': '200 gr', 'milk': 0.35, 'cacao': 1, 'fruits': {'banana', 'mango'}}\n"
          ]
        }
      ],
      "source": [
        "a_dict.update({'cacao': 1, 'fruits': {\"banana\", \"mango\"}})  # adding another dict containing INT and SET\n",
        "print(a_dict)"
      ]
    },
    {
      "cell_type": "code",
      "execution_count": 30,
      "metadata": {
        "id": "kxnLMEOHBtV9",
        "colab": {
          "base_uri": "https://localhost:8080/"
        },
        "outputId": "5e2cb963-7667-42f7-83cd-190565f0a4e8"
      },
      "outputs": [
        {
          "output_type": "stream",
          "name": "stdout",
          "text": [
            "{1, 2, 3, 4}\n"
          ]
        }
      ],
      "source": [
        "my_set = {1, 2, 3}\n",
        "my_set.add(4)\n",
        "print(my_set)  # Output: {1, 2, 3, 4}"
      ]
    },
    {
      "cell_type": "markdown",
      "metadata": {
        "id": "8RpVoUceKfjM"
      },
      "source": [
        "Defining and retyping containers:"
      ]
    },
    {
      "cell_type": "code",
      "execution_count": 34,
      "metadata": {
        "id": "4LTE5TNWKirC",
        "colab": {
          "base_uri": "https://localhost:8080/"
        },
        "outputId": "09660341-51c6-4ffb-a70c-e7733193456b"
      },
      "outputs": [
        {
          "output_type": "stream",
          "name": "stdout",
          "text": [
            "string: Hello, PEF!\n",
            "list: ['H', 'e', 'l', 'l', 'o', ',', ' ', 'P', 'E', 'F', '!']\n",
            "tuple: ('H', 'e', 'l', 'l', 'o', ',', ' ', 'P', 'E', 'F', '!')\n",
            "set: {'P', ',', ' ', 'E', '!', 'F', 'o', 'H', 'l', 'e'}\n"
          ]
        }
      ],
      "source": [
        "string = \"Hello, PEF!\"\n",
        "mylist = list(string)\n",
        "mytuple = tuple(string)\n",
        "myset = set(string)\n",
        "\n",
        "print(\"string:\", string)\n",
        "print(\"list:\", mylist)\n",
        "print(\"tuple:\", mytuple)\n",
        "print(\"set:\", myset)"
      ]
    },
    {
      "cell_type": "markdown",
      "metadata": {
        "id": "P-dD1nvBM2Lh"
      },
      "source": [
        "## ✍️ Try it yourself:\n",
        "\n",
        "**task:** write a function that will take a list of numbers, test whether list contains numbers only (only type `int` and `float` is applowed) and will return median of those numbers."
      ]
    },
    {
      "cell_type": "code",
      "execution_count": 32,
      "metadata": {
        "id": "hACSPKbMM2jf",
        "colab": {
          "base_uri": "https://localhost:8080/"
        },
        "outputId": "6ba7ff97-43e4-48fc-89e8-981cff7f4ad4"
      },
      "outputs": [
        {
          "output_type": "stream",
          "name": "stdout",
          "text": [
            "Median: None\n"
          ]
        }
      ],
      "source": [
        "def calculate_median(numbers:list):\n",
        "    pass\n",
        "\n",
        "# Example usage:\n",
        "number_list = [1, 2.5, 3, 4, 5]\n",
        "median = calculate_median(number_list)\n",
        "print(\"Median:\", median)\n"
      ]
    },
    {
      "cell_type": "code",
      "execution_count": 32,
      "metadata": {
        "id": "D7Rj7r-pdMrx"
      },
      "outputs": [],
      "source": []
    }
  ],
  "metadata": {
    "colab": {
      "provenance": [],
      "include_colab_link": true
    },
    "kernelspec": {
      "display_name": ".venv",
      "language": "python",
      "name": "python3"
    },
    "language_info": {
      "codemirror_mode": {
        "name": "ipython",
        "version": 3
      },
      "file_extension": ".py",
      "mimetype": "text/x-python",
      "name": "python",
      "nbconvert_exporter": "python",
      "pygments_lexer": "ipython3",
      "version": "3.10.13"
    }
  },
  "nbformat": 4,
  "nbformat_minor": 0
}