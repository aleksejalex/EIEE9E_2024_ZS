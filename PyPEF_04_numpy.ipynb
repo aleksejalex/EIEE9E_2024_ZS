{
  "cells": [
    {
      "cell_type": "markdown",
      "metadata": {
        "id": "view-in-github",
        "colab_type": "text"
      },
      "source": [
        "<a href=\"https://colab.research.google.com/github/aleksejalex/EIEE9E_2024_ZS/blob/main/PyPEF_04_numpy.ipynb\" target=\"_parent\"><img src=\"https://colab.research.google.com/assets/colab-badge.svg\" alt=\"Open In Colab\"/></a>"
      ]
    },
    {
      "cell_type": "markdown",
      "metadata": {
        "id": "BJ38-zM8iNpQ"
      },
      "source": [
        "# PyPEF, lecture 04. Numerical computations in Python: package NumPy.\n",
        "\n",
        "Prepared by: Aleksej Gaj ( pythonforstudents24@gmail.com )\n",
        "\n",
        "🔗 Course website: [https://aleksejalex.4fan.cz/pef_python/](https://aleksejalex.4fan.cz/pef_python/)\n"
      ]
    },
    {
      "cell_type": "markdown",
      "metadata": {
        "id": "ZEI2YaSwiPFc"
      },
      "source": [
        "In this tutorial we familiarize ourselves with\n",
        " - library NumPy: general philosophy, arrays, operations on them, functions\n"
      ]
    },
    {
      "cell_type": "markdown",
      "metadata": {
        "id": "wEIHfEJeBtWE"
      },
      "source": [
        "### Solution of the optional homework:\n",
        "**task:** write a function that will take a list of numbers, test whether list contains numbers only (only type `int` and `float` is applowed) and will return median of those numbers.\n",
        "  "
      ]
    },
    {
      "cell_type": "code",
      "execution_count": 21,
      "metadata": {
        "colab": {
          "base_uri": "https://localhost:8080/"
        },
        "id": "_nvxZ7eRSZGs",
        "outputId": "445bc300-c7d2-4c97-e660-05226e3f748b"
      },
      "outputs": [
        {
          "output_type": "stream",
          "name": "stdout",
          "text": [
            "Median: 4\n"
          ]
        }
      ],
      "source": [
        "def calculate_median(numbers:list):\n",
        "    valid_numbers = []\n",
        "    for num in numbers:\n",
        "        if isinstance(num, (int, float)):\n",
        "            valid_numbers.append(num)\n",
        "\n",
        "    valid_numbers.sort()\n",
        "    length = len(valid_numbers)\n",
        "\n",
        "    if length == 0:\n",
        "        return None\n",
        "    elif length % 2 == 0:\n",
        "        middle = length // 2\n",
        "        return (valid_numbers[middle - 1] + valid_numbers[middle]) / 2\n",
        "    else:\n",
        "        return valid_numbers[length // 2]\n",
        "\n",
        "# Example usage:\n",
        "number_list = [1, 2.5, 3, 4, 5, 1000, 2000]\n",
        "#number_list = [1, 2, 3, 4]\n",
        "median = calculate_median(number_list)\n",
        "print(\"Median:\", median)\n"
      ]
    },
    {
      "cell_type": "markdown",
      "metadata": {
        "id": "hy8umUnHmcN8"
      },
      "source": [
        "## Optional homework (new):\n",
        "*task:* write a function `gauss()` that will return a value of Gaussian probability distribution function.\n",
        "Make mean value $\\mu$ (`mu`) and dispersion $\\sigma$ (`sigma`) optional arguments.\n",
        "\n",
        "Hint/reminder:\n",
        "$$\n",
        "    y = \\frac{1}{\\sqrt{2 \\pi \\sigma^2} } e^{- \\frac{(x - \\mu)^2}{2 \\sigma^2}}\n",
        "$$\n",
        "\n",
        "Default values: $\\mu = 0$, $\\sigma = 1$.\n",
        "\n",
        "(more on gaussian curve >> [here](https://en.wikipedia.org/wiki/Normal_distribution))"
      ]
    },
    {
      "cell_type": "code",
      "execution_count": 22,
      "metadata": {
        "id": "1rpMqqYCm449",
        "colab": {
          "base_uri": "https://localhost:8080/",
          "height": 193
        },
        "outputId": "3979a9af-b11b-46d7-cee7-63ecc290e66f"
      },
      "outputs": [
        {
          "output_type": "error",
          "ename": "TypeError",
          "evalue": "gauss() takes 0 positional arguments but 1 was given",
          "traceback": [
            "\u001b[0;31m---------------------------------------------------------------------------\u001b[0m",
            "\u001b[0;31mTypeError\u001b[0m                                 Traceback (most recent call last)",
            "\u001b[0;32m<ipython-input-22-423db4f78521>\u001b[0m in \u001b[0;36m<cell line: 5>\u001b[0;34m()\u001b[0m\n\u001b[1;32m      3\u001b[0m \u001b[0;34m\u001b[0m\u001b[0m\n\u001b[1;32m      4\u001b[0m \u001b[0mx\u001b[0m \u001b[0;34m=\u001b[0m \u001b[0;36m1\u001b[0m\u001b[0;34m\u001b[0m\u001b[0;34m\u001b[0m\u001b[0m\n\u001b[0;32m----> 5\u001b[0;31m \u001b[0my\u001b[0m \u001b[0;34m=\u001b[0m \u001b[0mgauss\u001b[0m\u001b[0;34m(\u001b[0m\u001b[0mx\u001b[0m\u001b[0;34m)\u001b[0m\u001b[0;34m\u001b[0m\u001b[0;34m\u001b[0m\u001b[0m\n\u001b[0m\u001b[1;32m      6\u001b[0m \u001b[0my\u001b[0m \u001b[0;34m=\u001b[0m \u001b[0mgauss\u001b[0m\u001b[0;34m(\u001b[0m\u001b[0mx\u001b[0m\u001b[0;34m,\u001b[0m \u001b[0mmu\u001b[0m\u001b[0;34m=\u001b[0m\u001b[0;36m2\u001b[0m\u001b[0;34m,\u001b[0m \u001b[0msigma\u001b[0m\u001b[0;34m=\u001b[0m\u001b[0;36m0.2\u001b[0m\u001b[0;34m)\u001b[0m\u001b[0;34m\u001b[0m\u001b[0;34m\u001b[0m\u001b[0m\n",
            "\u001b[0;31mTypeError\u001b[0m: gauss() takes 0 positional arguments but 1 was given"
          ]
        }
      ],
      "source": [
        "def gauss():\n",
        "    pass\n",
        "\n",
        "x = 1\n",
        "y = gauss(x)\n",
        "y = gauss(x, mu=2, sigma=0.2)"
      ]
    },
    {
      "cell_type": "markdown",
      "metadata": {
        "id": "CsS_W8B1BtV5"
      },
      "source": [
        "## Recall: containers.\n",
        "Python uses several containers:\n",
        " - list\n",
        "\n",
        "\n",
        "| Type         | Description                                | Example                   |\n",
        "|--------------|--------------------------------------------|---------------------------|\n",
        "| list         | Ordered collection of items                | `my_list = [1, 2, 3]`     |\n",
        "| tuple        | Immutable ordered collection of items      | `my_tuple = (1, 2, 3)`    |\n",
        "| set          | Unordered collection of unique items       | `my_set = {1, 2, 3}`      |\n",
        "| dict         | Collection of key-value pairs              | `my_dict = {'eggs': 6, 'apples': 3, 'cookies': \"chocolate\"}`|\n"
      ]
    },
    {
      "cell_type": "code",
      "execution_count": 22,
      "metadata": {
        "id": "C_aSZ5CoKr7r"
      },
      "outputs": [],
      "source": []
    },
    {
      "cell_type": "markdown",
      "metadata": {
        "id": "RihzJYIrcs4Z"
      },
      "source": [
        "## Technical recall 1: printing objects\n",
        "\n",
        "We already know that there are (at least) 2 ways to print out variable:\n",
        " - via command `print()`\n",
        " - by leaving the variable on the last line of a cell\n",
        "\n",
        "First way is universal, it works always. The second is *specific to jupyter notebooks*.\n",
        "(It means if you would leave just a variable in a script, nothing will happen.)\n",
        "\n",
        "But what actually happens? Since we have seen what do the objects look like and we know everything is treated as object in Python, we understand that there should be some function triggered in behind of all this.\n",
        "\n",
        "Let's have a look:\n"
      ]
    },
    {
      "cell_type": "code",
      "execution_count": 23,
      "metadata": {
        "id": "EH4Hnrowcsb_"
      },
      "outputs": [],
      "source": [
        "class Cat:\n",
        "    def __init__(self, weight = 10):\n",
        "        self.weight = weight\n",
        "\n",
        "    def __repr__(self):\n",
        "        # string representation of the object\n",
        "        # this fction is called when object is called in ipython (just variable in notebook)\n",
        "        return f'Just a cat with weight of {self.weight} kg'\n",
        "\n",
        "    def __str__(self):\n",
        "        # string representation of object's value\n",
        "        # this fction is called when object is being printed\n",
        "        return f'This cat was printed, meow 🐾'"
      ]
    },
    {
      "cell_type": "code",
      "execution_count": 24,
      "metadata": {
        "id": "363EzQ4ac9q-"
      },
      "outputs": [],
      "source": [
        "my_cat = Cat()"
      ]
    },
    {
      "cell_type": "code",
      "execution_count": 25,
      "metadata": {
        "colab": {
          "base_uri": "https://localhost:8080/"
        },
        "id": "h-kigbYTdYJF",
        "outputId": "5603bfe7-98cc-4e17-d43d-7cad237c5499"
      },
      "outputs": [
        {
          "output_type": "execute_result",
          "data": {
            "text/plain": [
              "Just a cat with weight of 10 kg"
            ]
          },
          "metadata": {},
          "execution_count": 25
        }
      ],
      "source": [
        "my_cat"
      ]
    },
    {
      "cell_type": "code",
      "execution_count": 26,
      "metadata": {
        "colab": {
          "base_uri": "https://localhost:8080/"
        },
        "id": "V8SdzLp5daCv",
        "outputId": "74fe6eff-1ae4-43dd-f73a-407c37d9381a"
      },
      "outputs": [
        {
          "output_type": "stream",
          "name": "stdout",
          "text": [
            "This cat was printed, meow 🐾\n"
          ]
        }
      ],
      "source": [
        "print(my_cat)"
      ]
    },
    {
      "cell_type": "markdown",
      "source": [
        "So:\n",
        " - function `__repr__` is **string representation of the object itself**\n",
        " - function `__str__` is **string representation of the object's value**\n"
      ],
      "metadata": {
        "id": "X5vnVgpEmlHJ"
      }
    },
    {
      "cell_type": "markdown",
      "metadata": {
        "id": "yH_KW0TbViu1"
      },
      "source": [
        "## Technical recall 2: how to import packages and how to use them"
      ]
    },
    {
      "cell_type": "code",
      "execution_count": 27,
      "metadata": {
        "colab": {
          "base_uri": "https://localhost:8080/"
        },
        "id": "fz_d2YTtXTiY",
        "outputId": "d7725469-5d48-4ac5-ef83-cba88c1b0395"
      },
      "outputs": [
        {
          "output_type": "stream",
          "name": "stdout",
          "text": [
            "Variable           Type                          Data/Info\n",
            "----------------------------------------------------------\n",
            "Cat                type                          <class '__main__.Cat'>\n",
            "acos               builtin_function_or_method    <built-in function acos>\n",
            "acosh              builtin_function_or_method    <built-in function acosh>\n",
            "asin               builtin_function_or_method    <built-in function asin>\n",
            "asinh              builtin_function_or_method    <built-in function asinh>\n",
            "atan               builtin_function_or_method    <built-in function atan>\n",
            "atan2              builtin_function_or_method    <built-in function atan2>\n",
            "atanh              builtin_function_or_method    <built-in function atanh>\n",
            "calculate_median   function                      <function calculate_median at 0x7ef6e12f7c70>\n",
            "ceil               builtin_function_or_method    <built-in function ceil>\n",
            "comb               builtin_function_or_method    <built-in function comb>\n",
            "copysign           builtin_function_or_method    <built-in function copysign>\n",
            "cos                builtin_function_or_method    <built-in function cos>\n",
            "cosh               builtin_function_or_method    <built-in function cosh>\n",
            "degrees            builtin_function_or_method    <built-in function degrees>\n",
            "dist               builtin_function_or_method    <built-in function dist>\n",
            "e                  float                         2.718281828459045\n",
            "erf                builtin_function_or_method    <built-in function erf>\n",
            "erfc               builtin_function_or_method    <built-in function erfc>\n",
            "exp                builtin_function_or_method    <built-in function exp>\n",
            "expm1              builtin_function_or_method    <built-in function expm1>\n",
            "fabs               builtin_function_or_method    <built-in function fabs>\n",
            "factorial          builtin_function_or_method    <built-in function factorial>\n",
            "floor              builtin_function_or_method    <built-in function floor>\n",
            "fmod               builtin_function_or_method    <built-in function fmod>\n",
            "frexp              builtin_function_or_method    <built-in function frexp>\n",
            "fsum               builtin_function_or_method    <built-in function fsum>\n",
            "gamma              builtin_function_or_method    <built-in function gamma>\n",
            "gauss              function                      <function gauss at 0x7ef6e12f7a30>\n",
            "gcd                builtin_function_or_method    <built-in function gcd>\n",
            "hypot              builtin_function_or_method    <built-in function hypot>\n",
            "inf                float                         inf\n",
            "isclose            builtin_function_or_method    <built-in function isclose>\n",
            "isfinite           builtin_function_or_method    <built-in function isfinite>\n",
            "isinf              builtin_function_or_method    <built-in function isinf>\n",
            "isnan              builtin_function_or_method    <built-in function isnan>\n",
            "isqrt              builtin_function_or_method    <built-in function isqrt>\n",
            "lcm                builtin_function_or_method    <built-in function lcm>\n",
            "ldexp              builtin_function_or_method    <built-in function ldexp>\n",
            "lgamma             builtin_function_or_method    <built-in function lgamma>\n",
            "log                builtin_function_or_method    <built-in function log>\n",
            "log10              builtin_function_or_method    <built-in function log10>\n",
            "log1p              builtin_function_or_method    <built-in function log1p>\n",
            "log2               builtin_function_or_method    <built-in function log2>\n",
            "math               module                        <module 'math' (built-in)>\n",
            "median             int                           4\n",
            "modf               builtin_function_or_method    <built-in function modf>\n",
            "mt                 module                        <module 'math' (built-in)>\n",
            "my_cat             Cat                           This cat was printed, meow 🐾\n",
            "nan                float                         nan\n",
            "nextafter          builtin_function_or_method    <built-in function nextafter>\n",
            "np                 module                        <module 'numpy' from '/us<...>kages/numpy/__init__.py'>\n",
            "number_list        list                          n=7\n",
            "perm               builtin_function_or_method    <built-in function perm>\n",
            "pi                 float                         3.141592653589793\n",
            "pow                builtin_function_or_method    <built-in function pow>\n",
            "prod               builtin_function_or_method    <built-in function prod>\n",
            "radians            builtin_function_or_method    <built-in function radians>\n",
            "remainder          builtin_function_or_method    <built-in function remainder>\n",
            "sin                builtin_function_or_method    <built-in function sin>\n",
            "sinh               builtin_function_or_method    <built-in function sinh>\n",
            "sqrt               builtin_function_or_method    <built-in function sqrt>\n",
            "tan                builtin_function_or_method    <built-in function tan>\n",
            "tanh               builtin_function_or_method    <built-in function tanh>\n",
            "tau                float                         6.283185307179586\n",
            "trunc              builtin_function_or_method    <built-in function trunc>\n",
            "ulp                builtin_function_or_method    <built-in function ulp>\n",
            "v                  ndarray                       4: 4 elems, type `int64`, 32 bytes\n",
            "x                  int                           1\n",
            "y                  NoneType                      None\n"
          ]
        }
      ],
      "source": [
        "# keyword of interactive python (iPython), which runs .ipynb notebooks\n",
        "%whos"
      ]
    },
    {
      "cell_type": "markdown",
      "metadata": {
        "id": "IcaiyGxnVqP3"
      },
      "source": [
        "3 ways how to import in Python:"
      ]
    },
    {
      "cell_type": "code",
      "execution_count": 28,
      "metadata": {
        "id": "ArRLrdN3Vofq"
      },
      "outputs": [],
      "source": [
        "# 1. directly (usually ineficient)\n",
        "import math"
      ]
    },
    {
      "cell_type": "code",
      "execution_count": 29,
      "metadata": {
        "colab": {
          "base_uri": "https://localhost:8080/"
        },
        "id": "pN0MIcAl6409",
        "outputId": "d2912cc5-4084-4b78-e9da-b93e10615a92"
      },
      "outputs": [
        {
          "output_type": "stream",
          "name": "stdout",
          "text": [
            "Variable           Type                          Data/Info\n",
            "----------------------------------------------------------\n",
            "Cat                type                          <class '__main__.Cat'>\n",
            "acos               builtin_function_or_method    <built-in function acos>\n",
            "acosh              builtin_function_or_method    <built-in function acosh>\n",
            "asin               builtin_function_or_method    <built-in function asin>\n",
            "asinh              builtin_function_or_method    <built-in function asinh>\n",
            "atan               builtin_function_or_method    <built-in function atan>\n",
            "atan2              builtin_function_or_method    <built-in function atan2>\n",
            "atanh              builtin_function_or_method    <built-in function atanh>\n",
            "calculate_median   function                      <function calculate_median at 0x7ef6e12f7c70>\n",
            "ceil               builtin_function_or_method    <built-in function ceil>\n",
            "comb               builtin_function_or_method    <built-in function comb>\n",
            "copysign           builtin_function_or_method    <built-in function copysign>\n",
            "cos                builtin_function_or_method    <built-in function cos>\n",
            "cosh               builtin_function_or_method    <built-in function cosh>\n",
            "degrees            builtin_function_or_method    <built-in function degrees>\n",
            "dist               builtin_function_or_method    <built-in function dist>\n",
            "e                  float                         2.718281828459045\n",
            "erf                builtin_function_or_method    <built-in function erf>\n",
            "erfc               builtin_function_or_method    <built-in function erfc>\n",
            "exp                builtin_function_or_method    <built-in function exp>\n",
            "expm1              builtin_function_or_method    <built-in function expm1>\n",
            "fabs               builtin_function_or_method    <built-in function fabs>\n",
            "factorial          builtin_function_or_method    <built-in function factorial>\n",
            "floor              builtin_function_or_method    <built-in function floor>\n",
            "fmod               builtin_function_or_method    <built-in function fmod>\n",
            "frexp              builtin_function_or_method    <built-in function frexp>\n",
            "fsum               builtin_function_or_method    <built-in function fsum>\n",
            "gamma              builtin_function_or_method    <built-in function gamma>\n",
            "gauss              function                      <function gauss at 0x7ef6e12f7a30>\n",
            "gcd                builtin_function_or_method    <built-in function gcd>\n",
            "hypot              builtin_function_or_method    <built-in function hypot>\n",
            "inf                float                         inf\n",
            "isclose            builtin_function_or_method    <built-in function isclose>\n",
            "isfinite           builtin_function_or_method    <built-in function isfinite>\n",
            "isinf              builtin_function_or_method    <built-in function isinf>\n",
            "isnan              builtin_function_or_method    <built-in function isnan>\n",
            "isqrt              builtin_function_or_method    <built-in function isqrt>\n",
            "lcm                builtin_function_or_method    <built-in function lcm>\n",
            "ldexp              builtin_function_or_method    <built-in function ldexp>\n",
            "lgamma             builtin_function_or_method    <built-in function lgamma>\n",
            "log                builtin_function_or_method    <built-in function log>\n",
            "log10              builtin_function_or_method    <built-in function log10>\n",
            "log1p              builtin_function_or_method    <built-in function log1p>\n",
            "log2               builtin_function_or_method    <built-in function log2>\n",
            "math               module                        <module 'math' (built-in)>\n",
            "median             int                           4\n",
            "modf               builtin_function_or_method    <built-in function modf>\n",
            "mt                 module                        <module 'math' (built-in)>\n",
            "my_cat             Cat                           This cat was printed, meow 🐾\n",
            "nan                float                         nan\n",
            "nextafter          builtin_function_or_method    <built-in function nextafter>\n",
            "np                 module                        <module 'numpy' from '/us<...>kages/numpy/__init__.py'>\n",
            "number_list        list                          n=7\n",
            "perm               builtin_function_or_method    <built-in function perm>\n",
            "pi                 float                         3.141592653589793\n",
            "pow                builtin_function_or_method    <built-in function pow>\n",
            "prod               builtin_function_or_method    <built-in function prod>\n",
            "radians            builtin_function_or_method    <built-in function radians>\n",
            "remainder          builtin_function_or_method    <built-in function remainder>\n",
            "sin                builtin_function_or_method    <built-in function sin>\n",
            "sinh               builtin_function_or_method    <built-in function sinh>\n",
            "sqrt               builtin_function_or_method    <built-in function sqrt>\n",
            "tan                builtin_function_or_method    <built-in function tan>\n",
            "tanh               builtin_function_or_method    <built-in function tanh>\n",
            "tau                float                         6.283185307179586\n",
            "trunc              builtin_function_or_method    <built-in function trunc>\n",
            "ulp                builtin_function_or_method    <built-in function ulp>\n",
            "v                  ndarray                       4: 4 elems, type `int64`, 32 bytes\n",
            "x                  int                           1\n",
            "y                  NoneType                      None\n"
          ]
        }
      ],
      "source": [
        "%whos"
      ]
    },
    {
      "cell_type": "markdown",
      "metadata": {
        "id": "ZFqn35AC69FS"
      },
      "source": [
        "✨ We see there `math` as object of type `module`."
      ]
    },
    {
      "cell_type": "code",
      "execution_count": 30,
      "metadata": {
        "colab": {
          "base_uri": "https://localhost:8080/"
        },
        "id": "WNQy0S4LV5Ie",
        "outputId": "df38ebed-7a85-4a82-c70d-71ccddd81f87"
      },
      "outputs": [
        {
          "output_type": "execute_result",
          "data": {
            "text/plain": [
              "1.0"
            ]
          },
          "metadata": {},
          "execution_count": 30
        }
      ],
      "source": [
        "math.cos(2 * math.pi)"
      ]
    },
    {
      "cell_type": "code",
      "execution_count": 31,
      "metadata": {
        "id": "LuPpp3x9Vobn"
      },
      "outputs": [],
      "source": [
        "# 2. via reference (most common, highly recomended)\n",
        "import math as mt"
      ]
    },
    {
      "cell_type": "code",
      "execution_count": 32,
      "metadata": {
        "colab": {
          "base_uri": "https://localhost:8080/"
        },
        "id": "0de3kXivVoSX",
        "outputId": "19157bc5-59aa-46d2-8258-b2affb3ff8d5"
      },
      "outputs": [
        {
          "output_type": "execute_result",
          "data": {
            "text/plain": [
              "1.0"
            ]
          },
          "metadata": {},
          "execution_count": 32
        }
      ],
      "source": [
        "mt.cos(2 * mt.pi)"
      ]
    },
    {
      "cell_type": "code",
      "execution_count": 33,
      "metadata": {
        "id": "hDpD-ACFWH6o"
      },
      "outputs": [],
      "source": [
        "# 3. selectively (good in cases, when you need only one/two objects from the library)\n",
        "from math import cos, pi"
      ]
    },
    {
      "cell_type": "code",
      "execution_count": 34,
      "metadata": {
        "colab": {
          "base_uri": "https://localhost:8080/"
        },
        "id": "Ob_YIVYIWxS5",
        "outputId": "dbb83685-f2ee-42a6-8d41-a494e57eefce"
      },
      "outputs": [
        {
          "output_type": "execute_result",
          "data": {
            "text/plain": [
              "1.0"
            ]
          },
          "metadata": {},
          "execution_count": 34
        }
      ],
      "source": [
        "cos(2*pi)"
      ]
    },
    {
      "cell_type": "code",
      "execution_count": 35,
      "metadata": {
        "id": "d8fVtzoGWH1r"
      },
      "outputs": [],
      "source": [
        "# 4. everything from library (NOT recomended, unless you import something small or you really need all objects inside)\n",
        "from math import *"
      ]
    },
    {
      "cell_type": "code",
      "execution_count": 36,
      "metadata": {
        "colab": {
          "base_uri": "https://localhost:8080/"
        },
        "id": "V8JXKVhhWe5m",
        "outputId": "5688cb11-b10f-47a3-bdd8-8116a504439b"
      },
      "outputs": [
        {
          "output_type": "stream",
          "name": "stdout",
          "text": [
            "Variable           Type                          Data/Info\n",
            "----------------------------------------------------------\n",
            "Cat                type                          <class '__main__.Cat'>\n",
            "acos               builtin_function_or_method    <built-in function acos>\n",
            "acosh              builtin_function_or_method    <built-in function acosh>\n",
            "asin               builtin_function_or_method    <built-in function asin>\n",
            "asinh              builtin_function_or_method    <built-in function asinh>\n",
            "atan               builtin_function_or_method    <built-in function atan>\n",
            "atan2              builtin_function_or_method    <built-in function atan2>\n",
            "atanh              builtin_function_or_method    <built-in function atanh>\n",
            "calculate_median   function                      <function calculate_median at 0x7ef6e12f7c70>\n",
            "ceil               builtin_function_or_method    <built-in function ceil>\n",
            "comb               builtin_function_or_method    <built-in function comb>\n",
            "copysign           builtin_function_or_method    <built-in function copysign>\n",
            "cos                builtin_function_or_method    <built-in function cos>\n",
            "cosh               builtin_function_or_method    <built-in function cosh>\n",
            "degrees            builtin_function_or_method    <built-in function degrees>\n",
            "dist               builtin_function_or_method    <built-in function dist>\n",
            "e                  float                         2.718281828459045\n",
            "erf                builtin_function_or_method    <built-in function erf>\n",
            "erfc               builtin_function_or_method    <built-in function erfc>\n",
            "exp                builtin_function_or_method    <built-in function exp>\n",
            "expm1              builtin_function_or_method    <built-in function expm1>\n",
            "fabs               builtin_function_or_method    <built-in function fabs>\n",
            "factorial          builtin_function_or_method    <built-in function factorial>\n",
            "floor              builtin_function_or_method    <built-in function floor>\n",
            "fmod               builtin_function_or_method    <built-in function fmod>\n",
            "frexp              builtin_function_or_method    <built-in function frexp>\n",
            "fsum               builtin_function_or_method    <built-in function fsum>\n",
            "gamma              builtin_function_or_method    <built-in function gamma>\n",
            "gauss              function                      <function gauss at 0x7ef6e12f7a30>\n",
            "gcd                builtin_function_or_method    <built-in function gcd>\n",
            "hypot              builtin_function_or_method    <built-in function hypot>\n",
            "inf                float                         inf\n",
            "isclose            builtin_function_or_method    <built-in function isclose>\n",
            "isfinite           builtin_function_or_method    <built-in function isfinite>\n",
            "isinf              builtin_function_or_method    <built-in function isinf>\n",
            "isnan              builtin_function_or_method    <built-in function isnan>\n",
            "isqrt              builtin_function_or_method    <built-in function isqrt>\n",
            "lcm                builtin_function_or_method    <built-in function lcm>\n",
            "ldexp              builtin_function_or_method    <built-in function ldexp>\n",
            "lgamma             builtin_function_or_method    <built-in function lgamma>\n",
            "log                builtin_function_or_method    <built-in function log>\n",
            "log10              builtin_function_or_method    <built-in function log10>\n",
            "log1p              builtin_function_or_method    <built-in function log1p>\n",
            "log2               builtin_function_or_method    <built-in function log2>\n",
            "math               module                        <module 'math' (built-in)>\n",
            "median             int                           4\n",
            "modf               builtin_function_or_method    <built-in function modf>\n",
            "mt                 module                        <module 'math' (built-in)>\n",
            "my_cat             Cat                           This cat was printed, meow 🐾\n",
            "nan                float                         nan\n",
            "nextafter          builtin_function_or_method    <built-in function nextafter>\n",
            "np                 module                        <module 'numpy' from '/us<...>kages/numpy/__init__.py'>\n",
            "number_list        list                          n=7\n",
            "perm               builtin_function_or_method    <built-in function perm>\n",
            "pi                 float                         3.141592653589793\n",
            "pow                builtin_function_or_method    <built-in function pow>\n",
            "prod               builtin_function_or_method    <built-in function prod>\n",
            "radians            builtin_function_or_method    <built-in function radians>\n",
            "remainder          builtin_function_or_method    <built-in function remainder>\n",
            "sin                builtin_function_or_method    <built-in function sin>\n",
            "sinh               builtin_function_or_method    <built-in function sinh>\n",
            "sqrt               builtin_function_or_method    <built-in function sqrt>\n",
            "tan                builtin_function_or_method    <built-in function tan>\n",
            "tanh               builtin_function_or_method    <built-in function tanh>\n",
            "tau                float                         6.283185307179586\n",
            "trunc              builtin_function_or_method    <built-in function trunc>\n",
            "ulp                builtin_function_or_method    <built-in function ulp>\n",
            "v                  ndarray                       4: 4 elems, type `int64`, 32 bytes\n",
            "x                  int                           1\n",
            "y                  NoneType                      None\n"
          ]
        }
      ],
      "source": [
        "%whos"
      ]
    },
    {
      "cell_type": "code",
      "execution_count": 36,
      "metadata": {
        "id": "qWs6Sx62XI-P"
      },
      "outputs": [],
      "source": []
    },
    {
      "cell_type": "markdown",
      "metadata": {
        "id": "pmaQMv8gSZG3"
      },
      "source": [
        "## NumPy: Numerical Python\n",
        "\n",
        "<img src=\"https://numpy.org/doc/stable/_static/numpylogo.svg\" alt=\"logo\" width=\"400\">\n",
        "\n",
        "[documentation](https://numpy.org/)"
      ]
    },
    {
      "cell_type": "markdown",
      "metadata": {
        "id": "FUCSn4iASZG4"
      },
      "source": [
        "= library created to work with *numerical data*:\n",
        "\n",
        " - effectively stores and operates with high-dimensional data structures (**arrays** - like vectors and matrices)\n",
        " - implements mathematical operations on those arrays"
      ]
    },
    {
      "cell_type": "code",
      "execution_count": 37,
      "metadata": {
        "id": "hJ3VcPviSZG5"
      },
      "outputs": [],
      "source": [
        "# import\n",
        "import numpy as np"
      ]
    },
    {
      "cell_type": "markdown",
      "metadata": {
        "id": "b9dUHNKeZvMq"
      },
      "source": [
        "### Array - basic type of variable in NumPy\n",
        "\n",
        " - very similar to vector/matrix in algebra\n",
        " - type of variable: `ndarray`"
      ]
    },
    {
      "cell_type": "markdown",
      "metadata": {
        "id": "zNJgRureaqrC"
      },
      "source": [
        "| Feature                          | Python Lists (`list`)                                 | NumPy Arrays (`ndarray`)                                 |\n",
        "|----------------------------------|-----------------------------------------------|----------------------------------------------|\n",
        "| Data Types                       | Can contain elements of different data types  | Homogeneous data type ⚠️                       |\n",
        "| Performance                      | Slower for large datasets                     | Faster for large datasets                    |\n",
        "| Mathematical Operations          | Limited functionality for mathematical ops    | Rich set of mathematical operations         |\n",
        "| Indexing and Slicing             | Basic indexing and slicing                    | Advanced indexing and slicing                |\n",
        "| Iteration                        | Basic iteration                                | Vectorized operations                        |\n",
        "| Memory Efficiency                | Less memory efficient                         | More memory efficient                        |\n"
      ]
    },
    {
      "cell_type": "markdown",
      "metadata": {
        "id": "Soes9EdrZ64m"
      },
      "source": [
        "Example:\n",
        "\n",
        "$$ \\vec{v} = \\begin{pmatrix} 1 \\\\ 2 \\\\ 3 \\\\ 4 \\end{pmatrix} $$"
      ]
    },
    {
      "cell_type": "code",
      "execution_count": 38,
      "metadata": {
        "colab": {
          "base_uri": "https://localhost:8080/"
        },
        "id": "JEnGGgOtSZG5",
        "outputId": "2c0b3ac4-87ad-4449-c452-a8cd6e24f265"
      },
      "outputs": [
        {
          "output_type": "execute_result",
          "data": {
            "text/plain": [
              "array([1, 2, 3, 4])"
            ]
          },
          "metadata": {},
          "execution_count": 38
        }
      ],
      "source": [
        "v = np.array([1,2,3,4])\n",
        "\n",
        "v"
      ]
    },
    {
      "cell_type": "code",
      "execution_count": 39,
      "metadata": {
        "colab": {
          "base_uri": "https://localhost:8080/"
        },
        "id": "hvByxQluf4rk",
        "outputId": "866b7941-d233-4239-c54d-e336f977a08d"
      },
      "outputs": [
        {
          "output_type": "stream",
          "name": "stdout",
          "text": [
            "[1 2 3 4]\n"
          ]
        }
      ],
      "source": [
        "print(v)"
      ]
    },
    {
      "cell_type": "code",
      "execution_count": 40,
      "metadata": {
        "colab": {
          "base_uri": "https://localhost:8080/"
        },
        "id": "JqKLXPDoj8pr",
        "outputId": "ce149fe6-457a-4b74-afec-38609d32a288"
      },
      "outputs": [
        {
          "output_type": "execute_result",
          "data": {
            "text/plain": [
              "numpy.ndarray"
            ]
          },
          "metadata": {},
          "execution_count": 40
        }
      ],
      "source": [
        "type(v)"
      ]
    },
    {
      "cell_type": "markdown",
      "metadata": {
        "id": "VTXKrVyjbAtR"
      },
      "source": [
        "NumPy's array can be created:\n",
        " - from Python container - like `list` or `tuple`\n",
        " - via some NumPy function (for example `np.zeros`)\n",
        " - by loading from file\n",
        "\n"
      ]
    },
    {
      "cell_type": "code",
      "execution_count": 41,
      "metadata": {
        "colab": {
          "base_uri": "https://localhost:8080/"
        },
        "id": "InFXvhBzbn-_",
        "outputId": "607b3f2e-6383-4e6f-c2fe-d632fc2af961"
      },
      "outputs": [
        {
          "output_type": "stream",
          "name": "stdout",
          "text": [
            "[1 2 3]\n",
            "[1, 2, 3]\n"
          ]
        }
      ],
      "source": [
        "mylist = [1,2,3]   # Python's \"native\" list\n",
        "arr_from_list = np.array(mylist)\n",
        "\n",
        "print(arr_from_list)\n",
        "print(mylist)"
      ]
    },
    {
      "cell_type": "markdown",
      "metadata": {
        "id": "2xhhmfT6cCgA"
      },
      "source": [
        "🗒️ Note: `list` is printed with commas while `np.array` is printed without them."
      ]
    },
    {
      "cell_type": "markdown",
      "metadata": {
        "id": "pcqMsGJmgI9j"
      },
      "source": [
        "2-D array (matrix):\n",
        "\n",
        "$$\n",
        "\\mathbb{A} = \\begin{pmatrix}\n",
        "1 & 2 & 3 \\\\\n",
        "4 & 5 & 6 \\\\\n",
        "7 & 8 & 9 \\\\\n",
        "\\end{pmatrix} $$"
      ]
    },
    {
      "cell_type": "code",
      "execution_count": 42,
      "metadata": {
        "colab": {
          "base_uri": "https://localhost:8080/"
        },
        "id": "0ybTkYdEgm1p",
        "outputId": "9103bb58-66ee-43f9-9a96-0256e555e287"
      },
      "outputs": [
        {
          "output_type": "execute_result",
          "data": {
            "text/plain": [
              "array([[1, 2, 3],\n",
              "       [4, 5, 6],\n",
              "       [7, 8, 9]])"
            ]
          },
          "metadata": {},
          "execution_count": 42
        }
      ],
      "source": [
        "A = np.array([[1,2,3], [4,5,6], [7,8,9]])\n",
        "\n",
        "A"
      ]
    },
    {
      "cell_type": "markdown",
      "metadata": {
        "id": "hLdhkFBG6ELr"
      },
      "source": [
        "Matrix transposition:"
      ]
    },
    {
      "cell_type": "code",
      "execution_count": 43,
      "metadata": {
        "colab": {
          "base_uri": "https://localhost:8080/"
        },
        "id": "IM8YdUUDg1yd",
        "outputId": "ef571568-77c2-4060-9b98-93bb9262fa40"
      },
      "outputs": [
        {
          "output_type": "execute_result",
          "data": {
            "text/plain": [
              "array([[1, 4, 7],\n",
              "       [2, 5, 8],\n",
              "       [3, 6, 9]])"
            ]
          },
          "metadata": {},
          "execution_count": 43
        }
      ],
      "source": [
        "A.T"
      ]
    },
    {
      "cell_type": "markdown",
      "metadata": {
        "id": "zLaK8L4LgGsw"
      },
      "source": [
        "Shape of array, size of array\n",
        "\n",
        " - shape ... number of elements in each dimension\n",
        " - size ... total number of elements in the array"
      ]
    },
    {
      "cell_type": "code",
      "execution_count": 44,
      "metadata": {
        "colab": {
          "base_uri": "https://localhost:8080/"
        },
        "id": "d7dqngY9b07e",
        "outputId": "b7681be1-c3be-421e-c59b-7c960fbfbd07"
      },
      "outputs": [
        {
          "output_type": "execute_result",
          "data": {
            "text/plain": [
              "(4,)"
            ]
          },
          "metadata": {},
          "execution_count": 44
        }
      ],
      "source": [
        "v.shape"
      ]
    },
    {
      "cell_type": "code",
      "execution_count": 45,
      "metadata": {
        "colab": {
          "base_uri": "https://localhost:8080/"
        },
        "id": "TCiFtYPJhIlf",
        "outputId": "2f9f58ac-d25e-4764-9df9-88c56a21f9ec"
      },
      "outputs": [
        {
          "output_type": "execute_result",
          "data": {
            "text/plain": [
              "(3, 3)"
            ]
          },
          "metadata": {},
          "execution_count": 45
        }
      ],
      "source": [
        "A.shape"
      ]
    },
    {
      "cell_type": "code",
      "execution_count": 46,
      "metadata": {
        "colab": {
          "base_uri": "https://localhost:8080/"
        },
        "id": "_Pa__HCWYSXs",
        "outputId": "f3383b9f-4cbd-489c-b0ca-c11fd268578a"
      },
      "outputs": [
        {
          "output_type": "execute_result",
          "data": {
            "text/plain": [
              "4"
            ]
          },
          "metadata": {},
          "execution_count": 46
        }
      ],
      "source": [
        "v.size"
      ]
    },
    {
      "cell_type": "code",
      "execution_count": 47,
      "metadata": {
        "colab": {
          "base_uri": "https://localhost:8080/"
        },
        "id": "abR5sml9YSO1",
        "outputId": "e72a3d5c-bda2-4fda-a022-2b8f3a9f4e5e"
      },
      "outputs": [
        {
          "output_type": "execute_result",
          "data": {
            "text/plain": [
              "9"
            ]
          },
          "metadata": {},
          "execution_count": 47
        }
      ],
      "source": [
        "A.size"
      ]
    },
    {
      "cell_type": "markdown",
      "metadata": {
        "id": "Z8fqxu27h3Ns"
      },
      "source": [
        "`ndarray` must have all its elements of the same type. Type can be checked via `dtype` method:"
      ]
    },
    {
      "cell_type": "code",
      "execution_count": 48,
      "metadata": {
        "colab": {
          "base_uri": "https://localhost:8080/"
        },
        "id": "FzbC18MyYSFT",
        "outputId": "d813d9a9-b98c-4953-f41a-be0a34eeb72c"
      },
      "outputs": [
        {
          "output_type": "execute_result",
          "data": {
            "text/plain": [
              "dtype('int64')"
            ]
          },
          "metadata": {},
          "execution_count": 48
        }
      ],
      "source": [
        "A.dtype"
      ]
    },
    {
      "cell_type": "markdown",
      "metadata": {
        "id": "A3Ib2EsvjEkX"
      },
      "source": [
        "Type of elements of a `ndarray` can be set when creating the object:"
      ]
    },
    {
      "cell_type": "code",
      "execution_count": 49,
      "metadata": {
        "colab": {
          "base_uri": "https://localhost:8080/"
        },
        "id": "X7OkCgCOYR9Y",
        "outputId": "ff7f0804-065c-4fdd-e0c9-4c6472bf3ba8"
      },
      "outputs": [
        {
          "output_type": "execute_result",
          "data": {
            "text/plain": [
              "array([[  1,   2],\n",
              "       [101, 102]])"
            ]
          },
          "metadata": {},
          "execution_count": 49
        }
      ],
      "source": [
        "B = np.array([[1, 2], [101, 102]], dtype='int')\n",
        "\n",
        "B"
      ]
    },
    {
      "cell_type": "markdown",
      "metadata": {
        "id": "9XwmRW2zjcxo"
      },
      "source": [
        "Possible options are: `int`, `float`, `complex`, `bool`, `object`."
      ]
    },
    {
      "cell_type": "markdown",
      "metadata": {
        "id": "LWub6YSAiRiQ"
      },
      "source": [
        "### Array-generating functions\n",
        " = functions that will automatically create an array, so we don't have to specify its elements manually"
      ]
    },
    {
      "cell_type": "code",
      "execution_count": 50,
      "metadata": {
        "colab": {
          "base_uri": "https://localhost:8080/"
        },
        "id": "JskbitxrkOUZ",
        "outputId": "e0e31bfa-e670-4713-b938-565cdfb3bad9"
      },
      "outputs": [
        {
          "output_type": "execute_result",
          "data": {
            "text/plain": [
              "array([0, 1, 2, 3, 4, 5, 6, 7, 8, 9])"
            ]
          },
          "metadata": {},
          "execution_count": 50
        }
      ],
      "source": [
        "x = np.arange(start=0, stop=10, step=1)\n",
        "\n",
        "x"
      ]
    },
    {
      "cell_type": "code",
      "execution_count": 51,
      "metadata": {
        "colab": {
          "base_uri": "https://localhost:8080/"
        },
        "id": "zwP3eOpvkXNc",
        "outputId": "4fe199bb-4f33-40f1-81e7-51d296fca895"
      },
      "outputs": [
        {
          "output_type": "execute_result",
          "data": {
            "text/plain": [
              "array([-1.00000000e+00, -9.00000000e-01, -8.00000000e-01, -7.00000000e-01,\n",
              "       -6.00000000e-01, -5.00000000e-01, -4.00000000e-01, -3.00000000e-01,\n",
              "       -2.00000000e-01, -1.00000000e-01, -2.22044605e-16,  1.00000000e-01,\n",
              "        2.00000000e-01,  3.00000000e-01,  4.00000000e-01,  5.00000000e-01,\n",
              "        6.00000000e-01,  7.00000000e-01,  8.00000000e-01,  9.00000000e-01])"
            ]
          },
          "metadata": {},
          "execution_count": 51
        }
      ],
      "source": [
        "x = np.arange(start=-1, stop=1, step=0.1)\n",
        "\n",
        "x"
      ]
    },
    {
      "cell_type": "code",
      "execution_count": 52,
      "metadata": {
        "colab": {
          "base_uri": "https://localhost:8080/"
        },
        "id": "up1uai98YRz_",
        "outputId": "a1c481d7-bc5b-4ece-acf7-47df63cd853d"
      },
      "outputs": [
        {
          "output_type": "execute_result",
          "data": {
            "text/plain": [
              "array([[0., 0., 0.],\n",
              "       [0., 0., 0.]])"
            ]
          },
          "metadata": {},
          "execution_count": 52
        }
      ],
      "source": [
        "zero_mtx = np.zeros([2,3])\n",
        "\n",
        "zero_mtx"
      ]
    },
    {
      "cell_type": "code",
      "execution_count": 53,
      "metadata": {
        "colab": {
          "base_uri": "https://localhost:8080/"
        },
        "id": "outSd_rTYRsT",
        "outputId": "2c931d6b-b9f1-4cbc-fb2c-8860c7344a90"
      },
      "outputs": [
        {
          "output_type": "execute_result",
          "data": {
            "text/plain": [
              "array([[1., 1.],\n",
              "       [1., 1.],\n",
              "       [1., 1.]])"
            ]
          },
          "metadata": {},
          "execution_count": 53
        }
      ],
      "source": [
        "ones_mtx = np.ones([3,2])\n",
        "\n",
        "ones_mtx"
      ]
    },
    {
      "cell_type": "code",
      "execution_count": 54,
      "metadata": {
        "colab": {
          "base_uri": "https://localhost:8080/"
        },
        "id": "65-BqTSQYRlD",
        "outputId": "64dab3a7-632f-44ca-a7af-aefde1abd161"
      },
      "outputs": [
        {
          "output_type": "execute_result",
          "data": {
            "text/plain": [
              "array([[1, 0, 0, 0, 0],\n",
              "       [0, 1, 0, 0, 0],\n",
              "       [0, 0, 1, 0, 0],\n",
              "       [0, 0, 0, 1, 0],\n",
              "       [0, 0, 0, 0, 1]])"
            ]
          },
          "metadata": {},
          "execution_count": 54
        }
      ],
      "source": [
        "eye_mtx = np.eye(5, dtype = int)\n",
        "\n",
        "eye_mtx"
      ]
    },
    {
      "cell_type": "code",
      "execution_count": 55,
      "metadata": {
        "colab": {
          "base_uri": "https://localhost:8080/"
        },
        "id": "D_gApQQWYRea",
        "outputId": "2d9187a2-c918-495a-fd68-f2d0f23fb725"
      },
      "outputs": [
        {
          "output_type": "execute_result",
          "data": {
            "text/plain": [
              "dtype('int64')"
            ]
          },
          "metadata": {},
          "execution_count": 55
        }
      ],
      "source": [
        "eye_mtx.dtype"
      ]
    },
    {
      "cell_type": "code",
      "execution_count": 56,
      "metadata": {
        "colab": {
          "base_uri": "https://localhost:8080/"
        },
        "id": "d3oOYzIWYRYG",
        "outputId": "0a8e1768-cef4-4469-aa7f-5253ecd01839"
      },
      "outputs": [
        {
          "output_type": "execute_result",
          "data": {
            "text/plain": [
              "array([[0.21554257, 0.30978723, 0.72614561, 0.6068447 ],\n",
              "       [0.14928124, 0.7070973 , 0.06041799, 0.49939271],\n",
              "       [0.27886853, 0.64273902, 0.82855057, 0.02307595]])"
            ]
          },
          "metadata": {},
          "execution_count": 56
        }
      ],
      "source": [
        "# Array of random numbers - each is generated from uniform distribution on (0,1)\n",
        "np.random.rand(3,4)"
      ]
    },
    {
      "cell_type": "code",
      "execution_count": 57,
      "metadata": {
        "colab": {
          "base_uri": "https://localhost:8080/"
        },
        "id": "ICnau1P8YRSF",
        "outputId": "7a24e04d-23bb-49e7-b67b-20922614b95c"
      },
      "outputs": [
        {
          "output_type": "execute_result",
          "data": {
            "text/plain": [
              "array([[ 0.00634002, -1.27451358,  1.823855  ,  1.16230269],\n",
              "       [-1.79761494, -0.30392004,  1.38190835,  1.65605182],\n",
              "       [ 1.2623672 ,  1.23865964,  1.39760675,  0.89774772]])"
            ]
          },
          "metadata": {},
          "execution_count": 57
        }
      ],
      "source": [
        "# Array of random numbers - each is generated from Gaussian curve on (0,1)\n",
        "np.random.randn(3,4)"
      ]
    },
    {
      "cell_type": "markdown",
      "metadata": {
        "id": "0PodfEo06ELw"
      },
      "source": [
        "Just a visualisation - what's the difference:"
      ]
    },
    {
      "cell_type": "code",
      "execution_count": 58,
      "metadata": {
        "colab": {
          "base_uri": "https://localhost:8080/",
          "height": 347
        },
        "id": "e9wZ6VhTYRLv",
        "outputId": "13fc9147-20d0-476d-ba3d-9d9a4d3d5ced"
      },
      "outputs": [
        {
          "output_type": "display_data",
          "data": {
            "text/plain": [
              "<Figure size 480x360 with 1 Axes>"
            ],
            "image/png": "[encoded data removed]"
          },
          "metadata": {}
        }
      ],
      "source": [
        "import matplotlib.pyplot as plt\n",
        "plt.figure(figsize=(4,3), dpi=120)\n",
        "plt.plot(np.random.randn(5000), 'b.', alpha = 0.3)\n",
        "plt.plot(np.random.rand(5000), 'r.', alpha=0.3)\n",
        "plt.show()"
      ]
    },
    {
      "cell_type": "code",
      "execution_count": 59,
      "metadata": {
        "colab": {
          "base_uri": "https://localhost:8080/",
          "height": 347
        },
        "id": "e5famyFwYRAt",
        "outputId": "749fb61e-f6c6-469e-aebf-0948b950eecb"
      },
      "outputs": [
        {
          "output_type": "display_data",
          "data": {
            "text/plain": [
              "<Figure size 480x360 with 1 Axes>"
            ],
            "image/png": "[encoded data removed]"
          },
          "metadata": {}
        }
      ],
      "source": [
        "import matplotlib.pyplot as plt\n",
        "plt.figure(figsize=(4, 3), dpi=120)\n",
        "plt.hist(np.random.rand(5000), bins=np.linspace(-4, 4, 50), alpha=0.7)  # Set alpha to 0.5 for transparency\n",
        "plt.hist(np.random.randn(5000), bins=np.linspace(-4, 4, 50), alpha=0.7)  # Set alpha to 0.5 for transparency\n",
        "plt.show()\n"
      ]
    },
    {
      "cell_type": "markdown",
      "metadata": {
        "id": "tb5Ypuc06ELx"
      },
      "source": [
        "(We will learn plotting figures next time.)"
      ]
    },
    {
      "cell_type": "code",
      "execution_count": 60,
      "metadata": {
        "colab": {
          "base_uri": "https://localhost:8080/"
        },
        "id": "nO2gGoin6ELx",
        "outputId": "a063f626-5881-46bf-b3fb-3a14d39fbb20"
      },
      "outputs": [
        {
          "output_type": "execute_result",
          "data": {
            "text/plain": [
              "array([[8, 3, 2],\n",
              "       [1, 3, 4],\n",
              "       [3, 8, 4]])"
            ]
          },
          "metadata": {},
          "execution_count": 60
        }
      ],
      "source": [
        "# reminder: array with random integers\n",
        "np.random.randint(0, 10, size=(3, 3))"
      ]
    },
    {
      "cell_type": "markdown",
      "metadata": {
        "id": "zoymNVMVqXYG"
      },
      "source": [
        "### Array arithmetics"
      ]
    },
    {
      "cell_type": "markdown",
      "metadata": {
        "id": "kT5oE36A6ELy"
      },
      "source": [
        "Let's have these two matrices:\n",
        "\n",
        "$$ \\mathbb{A} =\n",
        "\\begin{pmatrix}\n",
        "1 & 2 \\\\\n",
        "3 & 4 \\\\\n",
        "\\end{pmatrix} ,\n",
        "\\quad \\quad\n",
        "\\mathbb{B} =\n",
        "\\begin{pmatrix}\n",
        "5 & 6 \\\\\n",
        "7 & 8 \\\\\n",
        "\\end{pmatrix}\n",
        "$$\n",
        "\n"
      ]
    },
    {
      "cell_type": "code",
      "execution_count": 61,
      "metadata": {
        "id": "BGygHhbh6ELy"
      },
      "outputs": [],
      "source": [
        "A = np.array([[1, 2],[3, 4]])\n",
        "B = np.array([[5, 6],[7, 8]])"
      ]
    },
    {
      "cell_type": "code",
      "execution_count": 62,
      "metadata": {
        "colab": {
          "base_uri": "https://localhost:8080/"
        },
        "id": "4z5KcnHB6ELy",
        "outputId": "2c0e3b63-7921-4352-ab4f-aea31666f336"
      },
      "outputs": [
        {
          "output_type": "execute_result",
          "data": {
            "text/plain": [
              "array([[ 6,  8],\n",
              "       [10, 12]])"
            ]
          },
          "metadata": {},
          "execution_count": 62
        }
      ],
      "source": [
        "# sum of those matrices:\n",
        "A+B"
      ]
    },
    {
      "cell_type": "code",
      "execution_count": 63,
      "metadata": {
        "colab": {
          "base_uri": "https://localhost:8080/"
        },
        "id": "oRof5GHA6ELy",
        "outputId": "37a5e65f-7b36-4119-bd42-4d7a9fa13686"
      },
      "outputs": [
        {
          "output_type": "execute_result",
          "data": {
            "text/plain": [
              "array([[-4, -4],\n",
              "       [-4, -4]])"
            ]
          },
          "metadata": {},
          "execution_count": 63
        }
      ],
      "source": [
        "A-B"
      ]
    },
    {
      "cell_type": "code",
      "execution_count": 64,
      "metadata": {
        "colab": {
          "base_uri": "https://localhost:8080/"
        },
        "id": "nsL17bOB6ELy",
        "outputId": "d6dca3e5-dd85-412d-a15c-d169b8356a55"
      },
      "outputs": [
        {
          "output_type": "execute_result",
          "data": {
            "text/plain": [
              "array([[19, 22],\n",
              "       [43, 50]])"
            ]
          },
          "metadata": {},
          "execution_count": 64
        }
      ],
      "source": [
        "# dot product (cz. maticové násobení)\n",
        "np.dot(A, B)"
      ]
    },
    {
      "cell_type": "code",
      "execution_count": 65,
      "metadata": {
        "colab": {
          "base_uri": "https://localhost:8080/"
        },
        "id": "297Qz0HW6ELy",
        "outputId": "8a880361-22fe-499e-eb75-e53d22cf0509"
      },
      "outputs": [
        {
          "output_type": "execute_result",
          "data": {
            "text/plain": [
              "array([[19, 22],\n",
              "       [43, 50]])"
            ]
          },
          "metadata": {},
          "execution_count": 65
        }
      ],
      "source": [
        "# or equivalently:\n",
        "A @ B"
      ]
    },
    {
      "cell_type": "markdown",
      "metadata": {
        "id": "lXF3TEzu6ELy"
      },
      "source": [
        "You can test it by hand 😜:\n",
        "\n",
        "$$\n",
        "\\mathbb{A} \\cdot \\mathbb{B} =\n",
        "\\begin{pmatrix}\n",
        "1 & 2 \\\\\n",
        "3 & 4 \\\\\n",
        "\\end{pmatrix}\n",
        "\\cdot\n",
        "\\begin{pmatrix}\n",
        "5 & 6 \\\\\n",
        "7 & 8 \\\\\n",
        "\\end{pmatrix}\n",
        "=\n",
        "\\begin{pmatrix}\n",
        "19 & 22 \\\\\n",
        "43 & 50 \\\\\n",
        "\\end{pmatrix}\n",
        "$$"
      ]
    },
    {
      "cell_type": "code",
      "execution_count": 66,
      "metadata": {
        "colab": {
          "base_uri": "https://localhost:8080/"
        },
        "id": "qHPnPqiV6ELz",
        "outputId": "b2125d5a-1dc5-4a62-c5eb-5f161dd95373"
      },
      "outputs": [
        {
          "output_type": "execute_result",
          "data": {
            "text/plain": [
              "array([[ 5, 12],\n",
              "       [21, 32]])"
            ]
          },
          "metadata": {},
          "execution_count": 66
        }
      ],
      "source": [
        "# element-wise product (cz. násobení po prvcích)\n",
        "np.multiply(A, B)"
      ]
    },
    {
      "cell_type": "code",
      "execution_count": 67,
      "metadata": {
        "colab": {
          "base_uri": "https://localhost:8080/"
        },
        "id": "Howg8wT66ELz",
        "outputId": "d87de64e-1412-4d65-9e95-d232d1592bb5"
      },
      "outputs": [
        {
          "output_type": "execute_result",
          "data": {
            "text/plain": [
              "array([[ 5, 12],\n",
              "       [21, 32]])"
            ]
          },
          "metadata": {},
          "execution_count": 67
        }
      ],
      "source": [
        "# or equivalently:\n",
        "A * B"
      ]
    },
    {
      "cell_type": "markdown",
      "metadata": {
        "id": "lRFbrBSUqayn"
      },
      "source": [
        "### Intermezzo: speed comparison (proof that it makes sense to use NumPy)\n",
        "\n",
        "NumPy is much better optimized (in sense of speed of computation). Here I demonstrate it:\n",
        "\n",
        " - below is function `my_dot_product` which multiplies two `list`s (not `ndarray`s)\n",
        " - then it's called with two anonymous lists with randomly generated numbers\n",
        "\n",
        "Time measurement is performed in jupyter notebook via \"magic command\" `%timeit`."
      ]
    },
    {
      "cell_type": "code",
      "execution_count": 68,
      "metadata": {
        "id": "qxO5rN9hYQwL"
      },
      "outputs": [],
      "source": [
        "def my_dot_product(list1, list2):\n",
        "    result = 0\n",
        "    for i in range(len(list1)):\n",
        "        result = result + list1[i] * list2[i]\n",
        "\n",
        "    return result"
      ]
    },
    {
      "cell_type": "markdown",
      "metadata": {
        "id": "NR4uvKm96ELz"
      },
      "source": [
        "1. let's measure how quick this function computes:"
      ]
    },
    {
      "cell_type": "code",
      "execution_count": 69,
      "metadata": {
        "colab": {
          "base_uri": "https://localhost:8080/"
        },
        "id": "ch9yU9Pg6EL0",
        "outputId": "e52129c1-5b52-4113-ae15-1ff8335f485d"
      },
      "outputs": [
        {
          "output_type": "stream",
          "name": "stdout",
          "text": [
            "18.3 ms ± 3.89 ms per loop (mean ± std. dev. of 7 runs, 100 loops each)\n"
          ]
        }
      ],
      "source": [
        "%timeit my_dot_product(list(np.random.randint(0, 10, size=(10000,1))), list(np.random.randint(0, 10, size=(10000,1))))"
      ]
    },
    {
      "cell_type": "markdown",
      "metadata": {
        "id": "o2emg1Oj6EL0"
      },
      "source": [
        "2. now let's perform the same multiplication via native functionality in NumPy:"
      ]
    },
    {
      "cell_type": "code",
      "execution_count": 70,
      "metadata": {
        "colab": {
          "base_uri": "https://localhost:8080/"
        },
        "id": "UMyYD3nv6EL0",
        "outputId": "3291b514-3ec4-45a9-8b98-7dad2005076a"
      },
      "outputs": [
        {
          "output_type": "stream",
          "name": "stdout",
          "text": [
            "366 µs ± 47.7 µs per loop (mean ± std. dev. of 7 runs, 1000 loops each)\n"
          ]
        }
      ],
      "source": [
        "%timeit np.random.randint(0, 10, size=(10000,1)).T @ np.random.randint(0, 10, size=(10000,1))"
      ]
    },
    {
      "cell_type": "markdown",
      "metadata": {
        "id": "7s_T4lrR6EL0"
      },
      "source": [
        "The difference is obvious 😉"
      ]
    },
    {
      "cell_type": "code",
      "execution_count": 71,
      "metadata": {
        "colab": {
          "base_uri": "https://localhost:8080/"
        },
        "id": "7Gvw1AUb6EL0",
        "outputId": "630a305b-15e2-49b9-9e3e-e57e71ca0b84"
      },
      "outputs": [
        {
          "output_type": "execute_result",
          "data": {
            "text/plain": [
              "55.0"
            ]
          },
          "metadata": {},
          "execution_count": 71
        }
      ],
      "source": [
        "19800 / 360"
      ]
    },
    {
      "cell_type": "code",
      "execution_count": 71,
      "metadata": {
        "id": "KGJzCp_u6EL1"
      },
      "outputs": [],
      "source": []
    },
    {
      "cell_type": "markdown",
      "metadata": {
        "id": "KF_29FbI6EL1"
      },
      "source": [
        "### Working with array\n",
        "~ quite similar to lists"
      ]
    },
    {
      "cell_type": "code",
      "execution_count": 72,
      "metadata": {
        "colab": {
          "base_uri": "https://localhost:8080/"
        },
        "id": "9_KV3kdP6EL1",
        "outputId": "5fec9301-704f-4715-a2d6-39ce67ab23b7"
      },
      "outputs": [
        {
          "output_type": "execute_result",
          "data": {
            "text/plain": [
              "array([[1, 2],\n",
              "       [3, 4]])"
            ]
          },
          "metadata": {},
          "execution_count": 72
        }
      ],
      "source": [
        "matrix = np.array([[1, 2], [3, 4]], dtype=int)\n",
        "matrix"
      ]
    },
    {
      "cell_type": "markdown",
      "metadata": {
        "id": "m5OQOThx6EL1"
      },
      "source": [
        "Access to elements:"
      ]
    },
    {
      "cell_type": "code",
      "execution_count": 73,
      "metadata": {
        "colab": {
          "base_uri": "https://localhost:8080/"
        },
        "id": "0-FDkELH6EL1",
        "outputId": "7856bfb8-22dd-4572-ff1e-01d6952b91be"
      },
      "outputs": [
        {
          "output_type": "execute_result",
          "data": {
            "text/plain": [
              "4"
            ]
          },
          "metadata": {},
          "execution_count": 73
        }
      ],
      "source": [
        "matrix[1, 1]"
      ]
    },
    {
      "cell_type": "markdown",
      "metadata": {
        "id": "zrWkHStZ6EL2"
      },
      "source": [
        "Rewriting elements:"
      ]
    },
    {
      "cell_type": "code",
      "execution_count": 74,
      "metadata": {
        "colab": {
          "base_uri": "https://localhost:8080/"
        },
        "id": "niRDivEX6EL2",
        "outputId": "6cf0d7d2-5727-4d75-a91d-6497b932d13d"
      },
      "outputs": [
        {
          "output_type": "execute_result",
          "data": {
            "text/plain": [
              "array([[  1,   2],\n",
              "       [  3, 100]])"
            ]
          },
          "metadata": {},
          "execution_count": 74
        }
      ],
      "source": [
        "matrix[1, 1] = 100\n",
        "matrix"
      ]
    },
    {
      "cell_type": "markdown",
      "metadata": {
        "id": "Q2u7MOCn6EL2"
      },
      "source": [
        "Rewriting whole column/row:"
      ]
    },
    {
      "cell_type": "code",
      "execution_count": 75,
      "metadata": {
        "colab": {
          "base_uri": "https://localhost:8080/"
        },
        "id": "AdrogjDu6EL3",
        "outputId": "993bcbd5-1e10-4236-d94b-647b736bc775"
      },
      "outputs": [
        {
          "output_type": "execute_result",
          "data": {
            "text/plain": [
              "array([[ 1,  2],\n",
              "       [-1, -1]])"
            ]
          },
          "metadata": {},
          "execution_count": 75
        }
      ],
      "source": [
        "matrix[1,:] = -1\n",
        "matrix"
      ]
    },
    {
      "cell_type": "markdown",
      "metadata": {
        "id": "gg_7WUbx6EL3"
      },
      "source": [
        "From n-D array to 1-D array (\"flattening matrices into long vectors\"):"
      ]
    },
    {
      "cell_type": "code",
      "execution_count": 76,
      "metadata": {
        "colab": {
          "base_uri": "https://localhost:8080/"
        },
        "id": "5XgWDydM6EL3",
        "outputId": "1d60d6d0-4edc-4a98-eb02-dac354102811"
      },
      "outputs": [
        {
          "output_type": "execute_result",
          "data": {
            "text/plain": [
              "array([ 1,  2, -1, -1])"
            ]
          },
          "metadata": {},
          "execution_count": 76
        }
      ],
      "source": [
        "matrix.flatten()"
      ]
    },
    {
      "cell_type": "markdown",
      "metadata": {
        "id": "mrIlpYSI6EL3"
      },
      "source": [
        "Slicing: allows you to access a portion of an array\n",
        "> `array[start:end:step]`"
      ]
    },
    {
      "cell_type": "code",
      "execution_count": 77,
      "metadata": {
        "colab": {
          "base_uri": "https://localhost:8080/"
        },
        "id": "Q-DOoadk6EL3",
        "outputId": "c1bc261e-0804-4300-cdf5-8fb695191ff9"
      },
      "outputs": [
        {
          "output_type": "execute_result",
          "data": {
            "text/plain": [
              "array([2, 3, 4])"
            ]
          },
          "metadata": {},
          "execution_count": 77
        }
      ],
      "source": [
        "arr = np.array([1, 2, 3, 4, 5])\n",
        "arr[1:4]"
      ]
    },
    {
      "cell_type": "code",
      "execution_count": 78,
      "metadata": {
        "colab": {
          "base_uri": "https://localhost:8080/"
        },
        "id": "Bwr8RdM36EL4",
        "outputId": "4d511c07-456f-4627-ea2b-c53fa51906c9"
      },
      "outputs": [
        {
          "output_type": "execute_result",
          "data": {
            "text/plain": [
              "array([[1, 2],\n",
              "       [3, 4],\n",
              "       [5, 6]])"
            ]
          },
          "metadata": {},
          "execution_count": 78
        }
      ],
      "source": [
        "arr = np.array([[1, 2, 3], [4, 5, 6]])\n",
        "reshaped_arr = np.reshape(arr, (3, 2))\n",
        "reshaped_arr"
      ]
    },
    {
      "cell_type": "markdown",
      "metadata": {
        "id": "bGAQz6cn6EL4"
      },
      "source": [
        "Concatenation of `ndarray`s:"
      ]
    },
    {
      "cell_type": "code",
      "execution_count": 79,
      "metadata": {
        "colab": {
          "base_uri": "https://localhost:8080/"
        },
        "id": "rE8W0Mk16EL5",
        "outputId": "b09b3a7d-f1a5-4fb1-c7f5-2f8bb0e2f5e2"
      },
      "outputs": [
        {
          "output_type": "execute_result",
          "data": {
            "text/plain": [
              "array([[1, 2],\n",
              "       [3, 4],\n",
              "       [5, 6],\n",
              "       [7, 8]])"
            ]
          },
          "metadata": {},
          "execution_count": 79
        }
      ],
      "source": [
        "C = np.concatenate([A, B], axis=0)\n",
        "C"
      ]
    },
    {
      "cell_type": "code",
      "execution_count": 80,
      "metadata": {
        "colab": {
          "base_uri": "https://localhost:8080/"
        },
        "id": "4NxhzQVi6EL5",
        "outputId": "5a11cb19-02ff-432a-8fa9-6f6d72a203d8"
      },
      "outputs": [
        {
          "output_type": "execute_result",
          "data": {
            "text/plain": [
              "array([[1, 2, 5, 6],\n",
              "       [3, 4, 7, 8]])"
            ]
          },
          "metadata": {},
          "execution_count": 80
        }
      ],
      "source": [
        "D = np.concatenate([A, B], axis=1)\n",
        "D"
      ]
    },
    {
      "cell_type": "markdown",
      "metadata": {
        "id": "Q8vemh2x6EL5"
      },
      "source": [
        "### Mathematical functions\n",
        "\n",
        "NumPy provides wide range of mathematical functions which can be applied on `int` or `float` and also on `ndarray`. They act on `ndarray` *element-wise*.\n",
        "\n",
        "*Examples:*"
      ]
    },
    {
      "cell_type": "markdown",
      "metadata": {
        "id": "DabrJ51A6EL6"
      },
      "source": [
        "#### Trigonometric functions:"
      ]
    },
    {
      "cell_type": "code",
      "execution_count": 81,
      "metadata": {
        "colab": {
          "base_uri": "https://localhost:8080/"
        },
        "id": "UA7BT-Q36EL6",
        "outputId": "1a3a750f-a6c7-47e5-90f0-05aa263ffea6"
      },
      "outputs": [
        {
          "output_type": "stream",
          "name": "stdout",
          "text": [
            "arr =  [0.         6.28318531 3.14159265]\n",
            "Sine: [ 0.0000000e+00 -2.4492936e-16  1.2246468e-16]\n",
            "Cosine: [ 1.  1. -1.]\n",
            "Tangent: [ 0.0000000e+00 -2.4492936e-16 -1.2246468e-16]\n"
          ]
        }
      ],
      "source": [
        "arr = np.array([0, np.pi*2, np.pi])\n",
        "print(\"arr = \", arr)\n",
        "\n",
        "# Sine function\n",
        "sine_values = np.sin(arr)\n",
        "print(\"Sine:\", sine_values)\n",
        "\n",
        "# Cosine function\n",
        "cosine_values = np.cos(arr)\n",
        "print(\"Cosine:\", cosine_values)\n",
        "\n",
        "# Tangent function\n",
        "tangent_values = np.tan(arr)\n",
        "print(\"Tangent:\", tangent_values)"
      ]
    },
    {
      "cell_type": "markdown",
      "metadata": {
        "id": "Hi4kWugn6EL6"
      },
      "source": [
        "#### Exponential and different logarithms:"
      ]
    },
    {
      "cell_type": "code",
      "execution_count": 82,
      "metadata": {
        "colab": {
          "base_uri": "https://localhost:8080/"
        },
        "id": "Uq4pSM9W6EL6",
        "outputId": "5aa690db-334d-4fa1-8306-87f2896a5539"
      },
      "outputs": [
        {
          "output_type": "stream",
          "name": "stdout",
          "text": [
            "Exponential: [ 2.71828183  7.3890561  20.08553692]\n",
            "Natural Logarithm: [0.         0.69314718 1.09861229]\n",
            "Common Logarithm: [0.         0.30103    0.47712125]\n",
            "Base 2 Logarithm: [0.        1.        1.5849625]\n"
          ]
        }
      ],
      "source": [
        "arr = np.array([1, 2, 3])\n",
        "\n",
        "# Exponential function (e^x)\n",
        "exp_values = np.exp(arr)\n",
        "print(\"Exponential:\", exp_values)\n",
        "\n",
        "# Natural logarithm (base e)\n",
        "log_values = np.log(arr)\n",
        "print(\"Natural Logarithm:\", log_values)\n",
        "\n",
        "# Common logarithm (base 10)\n",
        "log10_values = np.log10(arr)\n",
        "print(\"Common Logarithm:\", log10_values)\n",
        "\n",
        "# Logarithm of base 2\n",
        "log2_values = np.log2(arr)\n",
        "print(\"Base 2 Logarithm:\", log2_values)"
      ]
    },
    {
      "cell_type": "markdown",
      "metadata": {
        "id": "6EmiHLX06EL6"
      },
      "source": [
        "#### Basic statistical functions:"
      ]
    },
    {
      "cell_type": "code",
      "execution_count": 83,
      "metadata": {
        "colab": {
          "base_uri": "https://localhost:8080/"
        },
        "id": "TKGGSGIb6EL6",
        "outputId": "085753e0-03f4-4656-a44c-a3b396087b23"
      },
      "outputs": [
        {
          "output_type": "stream",
          "name": "stdout",
          "text": [
            "Mean: 3.0\n",
            "Median: 3.0\n",
            "Standard Deviation: 1.4142135623730951\n",
            "Variance: 2.0\n",
            "Minimum Value: 1\n",
            "Maximum Value: 5\n"
          ]
        }
      ],
      "source": [
        "arr = np.array([1, 2, 3, 4, 5])\n",
        "\n",
        "# Mean\n",
        "mean_value = np.mean(arr)\n",
        "print(\"Mean:\", mean_value)\n",
        "\n",
        "# Median\n",
        "median_value = np.median(arr)\n",
        "print(\"Median:\", median_value)\n",
        "\n",
        "# Standard deviation\n",
        "std_value = np.std(arr)\n",
        "print(\"Standard Deviation:\", std_value)\n",
        "\n",
        "# Variance\n",
        "var_value = np.var(arr)\n",
        "print(\"Variance:\", var_value)\n",
        "\n",
        "# Minimum value\n",
        "min_value = np.min(arr)\n",
        "print(\"Minimum Value:\", min_value)\n",
        "\n",
        "# Maximum value\n",
        "max_value = np.max(arr)\n",
        "print(\"Maximum Value:\", max_value)\n"
      ]
    },
    {
      "cell_type": "markdown",
      "metadata": {
        "id": "UcdKsnLQ6EL6"
      },
      "source": [
        "## What was omitted?\n",
        "\n",
        " - reading an array from text file --> next time\n",
        " - plotting values --> next time (different package)\n",
        " - special functions for linear algebra: Fast Fourier Transform, LU decomposition, SVD decomposition, ....\n",
        " - ....\n",
        "\n",
        "\n",
        " some [tutorials on NumPy](https://numpy.org/numpy-tutorials/index.html)\n"
      ]
    },
    {
      "cell_type": "code",
      "execution_count": 83,
      "metadata": {
        "id": "bfqKe4mj6EL6"
      },
      "outputs": [],
      "source": []
    },
    {
      "cell_type": "markdown",
      "metadata": {
        "id": "jn9Mw7Wr6EL7"
      },
      "source": [
        "😵‍💫 If you are a little lost, don't worry : next time we start plotting graphs, so we will need to work with NumPy arrays and some functions -> we will see these things one more time **in practice**."
      ]
    },
    {
      "cell_type": "code",
      "execution_count": 83,
      "metadata": {
        "id": "T0cFTiLQ6EL7"
      },
      "outputs": [],
      "source": []
    },
    {
      "cell_type": "markdown",
      "metadata": {
        "id": "80H5Orhw6EL7"
      },
      "source": [
        "## Optional homework:\n",
        "\n",
        "*task:* write a function, that will take a matrix, and:\n",
        " - check if the matrix is square\n",
        " - if it's square, return its determinant (`np.det(A)`)\n",
        " - if it's *not* rectangular, reshape it so it's square and then return its determinant\n",
        " - if reshaping is not possible (odd number of elements), fill it with ones\n",
        "\n",
        "(use library NumPy)"
      ]
    },
    {
      "cell_type": "code",
      "execution_count": 83,
      "metadata": {
        "id": "SCnw3rL16EL7"
      },
      "outputs": [],
      "source": []
    },
    {
      "cell_type": "code",
      "execution_count": 83,
      "metadata": {
        "id": "GzAyUzZR6EL7"
      },
      "outputs": [],
      "source": []
    }
  ],
  "metadata": {
    "colab": {
      "provenance": [],
      "toc_visible": true,
      "include_colab_link": true
    },
    "kernelspec": {
      "display_name": "Python 3",
      "name": "python3"
    },
    "language_info": {
      "codemirror_mode": {
        "name": "ipython",
        "version": 3
      },
      "file_extension": ".py",
      "mimetype": "text/x-python",
      "name": "python",
      "nbconvert_exporter": "python",
      "pygments_lexer": "ipython3",
      "version": "3.12.2"
    }
  },
  "nbformat": 4,
  "nbformat_minor": 0
}