{
  "cells": [
    {
      "cell_type": "markdown",
      "metadata": {
        "id": "view-in-github",
        "colab_type": "text"
      },
      "source": [
        "<a href=\"https://colab.research.google.com/github/aleksejalex/EIEE9E_2024_ZS/blob/main/PyPEF_01_intro.ipynb\" target=\"_parent\"><img src=\"https://colab.research.google.com/assets/colab-badge.svg\" alt=\"Open In Colab\"/></a>"
      ]
    },
    {
      "cell_type": "markdown",
      "metadata": {
        "id": "s4q7C3atSUxs"
      },
      "source": [
        "# PyPEF, lecture 01. Introduction. Basic syntax.\n",
        "\n",
        "Prepared by: Aleksej Gaj ( pythonforstudents24@gmail.com )\n",
        "\n",
        "🔗 Course website: [https://aleksejalex.4fan.cz/pef_python/](https://aleksejalex.4fan.cz/pef_python/)\n",
        "\n",
        "\n",
        "\n"
      ]
    },
    {
      "cell_type": "markdown",
      "metadata": {
        "id": "H77RbxQ9GT3z"
      },
      "source": [
        "In this tutorial we familiarize ourselves with\n",
        " - Google Colaboratory (a.k.a. [Google Colab](https://colab.research.google.com/))\n",
        " - using Python in interactive way in jupyter notebooks (`.ipynb` files)\n",
        " - basic syntax of Python.\n"
      ]
    },
    {
      "cell_type": "markdown",
      "metadata": {
        "id": "Ul3JI4xES-Tq"
      },
      "source": [
        "## Simplicity of basic expressions\n",
        "\n",
        " - in jupyter notebook (`.ipynb` file) every cell (\"piece of code\") is executed independently, but they do share common interpreter (variables and functions introduced once are kept until removed or the kernel is restarted.)\n",
        "\n",
        " 💡️ restart kernel in Google Colab: `Runtime` -> `Restart session`\n",
        "\n"
      ]
    },
    {
      "cell_type": "markdown",
      "metadata": {
        "id": "y2d1OEsXAkcD"
      },
      "source": [
        "## Keywords: less than in some other languages\n"
      ]
    },
    {
      "cell_type": "markdown",
      "metadata": {
        "id": "2gIXYqtnBQ4n"
      },
      "source": [
        "| Keyword     | Description                                         |\n",
        "|-------------|-----------------------------------------------------|\n",
        "| `False`     | Boolean value representing false                    |\n",
        "| `None`      | Represents absence of a value or null               |\n",
        "| `True`      | Boolean value representing true                     |\n",
        "| `and`       | Logical operator 'and'                              |\n",
        "| `as`        | Alias for module import or exception handling       |\n",
        "| `assert`    | Assert statement for debugging                       |\n",
        "| `async`     | Declares asynchronous function                      |\n",
        "| `await`     | Used to await asynchronous function calls           |\n",
        "| `break`     | Breaks out of loop                                  |\n",
        "| `class`     | Defines a class                                     |\n",
        "| `continue`  | Skips the rest of the loop iteration                |\n",
        "| `def`       | Defines a function                                  |\n",
        "| `del`       | Deletes reference to an object                      |\n",
        "| `elif`      | \"Else if\" conditional statement                     |\n",
        "| `else`      | Conditional block executed if if-statement is false |\n",
        "| `except`    | Catches exceptions raised in try block              |\n",
        "| `finally`   | Block of code executed regardless of try-except     |\n",
        "| `for`       | Looping construct for iterating over sequences      |\n",
        "| `from`      | Import specific attributes or functions from module |\n",
        "| `global`    | Declares a global variable                          |\n",
        "| `if`        | Conditional statement                               |\n",
        "| `import`    | Imports modules or specific attributes/functions    |\n",
        "| `in`        | Membership test                                     |\n",
        "| `is`        | Identity test                                       |\n",
        "| `lambda`    | Creates anonymous functions                         |\n",
        "| `nonlocal`  | Declares a nonlocal variable                        |\n",
        "| `not`       | Logical operator 'not'                              |\n",
        "| `or`        | Logical operator 'or'                               |\n",
        "| `pass`      | Null operation, acts as placeholder                 |\n",
        "| `raise`     | Raises an exception                                 |\n",
        "| `return`    | Returns a value from function                       |\n",
        "| `try`       | Defines a block to be tested for errors             |\n",
        "| `while`     | Looping construct for indefinite iteration          |\n",
        "| `with`      | Simplifies exception handling with context managers |\n",
        "| `yield`     | Pauses and resumes generator function               |\n"
      ]
    },
    {
      "cell_type": "markdown",
      "metadata": {
        "id": "UvUBvhNGO0t6"
      },
      "source": [
        "## Comments"
      ]
    },
    {
      "cell_type": "markdown",
      "metadata": {
        "id": "WYMbGJPdds3k"
      },
      "source": [
        "Do comment any code you create, because ..."
      ]
    },
    {
      "cell_type": "markdown",
      "metadata": {
        "id": "eBaRnSfIds3l"
      },
      "source": [
        "<a href=\"https://programmerhumor.io/wp-content/uploads/2023/07/programmerhumor-io-programming-memes-621ef780eec665e.png\"><img src=\"https://programmerhumor.io/wp-content/uploads/2023/07/programmerhumor-io-programming-memes-621ef780eec665e.png?\" alt=\"banner\" width=\"300\"></a>\n",
        "\n",
        "Source: [here](https://programmerhumor.io/programming-memes/please-tell-me-god/)\n"
      ]
    },
    {
      "cell_type": "markdown",
      "metadata": {
        "id": "uUB0o_eQds3m"
      },
      "source": [
        "Line comment (When reading your code, Python will ignore anything beyond the `#` symbol):"
      ]
    },
    {
      "cell_type": "code",
      "execution_count": null,
      "metadata": {
        "id": "1OtVNzi2O4fv"
      },
      "outputs": [],
      "source": [
        "a = 1 # this is inline comment"
      ]
    },
    {
      "cell_type": "markdown",
      "metadata": {
        "id": "317z2-H7PM4K"
      },
      "source": [
        "Python does not have multi-line comments, so string is frequently used for this purpose (separated via triple apostrophs):"
      ]
    },
    {
      "cell_type": "code",
      "execution_count": null,
      "metadata": {
        "colab": {
          "base_uri": "https://localhost:8080/",
          "height": 35
        },
        "id": "VVPdQjClO9ij",
        "outputId": "5ea331bc-0313-4987-f07c-307dc214eff0"
      },
      "outputs": [
        {
          "data": {
            "text/plain": [
              "'\\nThis is also\\nblock comment\\non several lines\\n'"
            ]
          },
          "execution_count": 3,
          "metadata": {},
          "output_type": "execute_result"
        }
      ],
      "source": [
        "\"\"\" This is block comment \"\"\"\n",
        "\n",
        "\"\"\"\n",
        "This is also\n",
        "block comment\n",
        "on several lines\n",
        "\"\"\""
      ]
    },
    {
      "cell_type": "markdown",
      "metadata": {
        "id": "xxsR0f-zPvtL"
      },
      "source": [
        "Note. Strings above were printed - jupyter notebook causes this behaviour. These won't be printed out when running scripts (`.py`)."
      ]
    },
    {
      "cell_type": "markdown",
      "metadata": {
        "id": "xSH-pS0KQbXf"
      },
      "source": [
        "## Defining variables. Output (function `print`)."
      ]
    },
    {
      "cell_type": "markdown",
      "metadata": {
        "id": "CRJMHE_bds3q"
      },
      "source": [
        "Defining a numerical variable (as easy as it could be):"
      ]
    },
    {
      "cell_type": "code",
      "execution_count": null,
      "metadata": {
        "colab": {
          "base_uri": "https://localhost:8080/"
        },
        "id": "-Xz8CSDBS0ke",
        "outputId": "3a64cfde-7c51-42bf-c08b-4ad15f9ddb75"
      },
      "outputs": [
        {
          "name": "stdout",
          "output_type": "stream",
          "text": [
            "2\n"
          ]
        }
      ],
      "source": [
        "a=2\n",
        "print(a)"
      ]
    },
    {
      "cell_type": "code",
      "execution_count": null,
      "metadata": {
        "colab": {
          "base_uri": "https://localhost:8080/"
        },
        "id": "ewc5QD2RBmHz",
        "outputId": "1359b4c0-4a86-44f4-9456-ba7a32fabcaf"
      },
      "outputs": [
        {
          "name": "stdout",
          "output_type": "stream",
          "text": [
            "Variable 'a' is equal to 2.\n"
          ]
        }
      ],
      "source": [
        "print(f\"Variable 'a' is equal to {a}.\")  # print using f-string"
      ]
    },
    {
      "cell_type": "code",
      "execution_count": null,
      "metadata": {
        "colab": {
          "base_uri": "https://localhost:8080/"
        },
        "id": "955iGc50Oqxo",
        "outputId": "740f8bf0-05fd-4d3f-b19a-9cca142a6427"
      },
      "outputs": [
        {
          "name": "stdout",
          "output_type": "stream",
          "text": [
            "Provozne ekonomicka fakulta\n"
          ]
        }
      ],
      "source": [
        "pef = \"Provozne ekonomicka fakulta\"\n",
        "print(pef)"
      ]
    },
    {
      "cell_type": "code",
      "execution_count": null,
      "metadata": {
        "id": "YNFYPaTUS0hu"
      },
      "outputs": [],
      "source": [
        "b = ( 10 + a ) / 6"
      ]
    },
    {
      "cell_type": "code",
      "execution_count": null,
      "metadata": {
        "colab": {
          "base_uri": "https://localhost:8080/"
        },
        "id": "xbI_H-JYQpc-",
        "outputId": "138902b0-b8aa-4608-e159-47877fec30a3"
      },
      "outputs": [
        {
          "data": {
            "text/plain": [
              "2.0"
            ]
          },
          "execution_count": 8,
          "metadata": {},
          "output_type": "execute_result"
        }
      ],
      "source": [
        "b  # when single varible called in iPython (notebook), it's printed out automatically"
      ]
    },
    {
      "cell_type": "markdown",
      "metadata": {
        "id": "xNVjBCAiF5Jc"
      },
      "source": [
        " - Python can handle very big numbers with ease:"
      ]
    },
    {
      "cell_type": "code",
      "execution_count": null,
      "metadata": {
        "colab": {
          "base_uri": "https://localhost:8080/"
        },
        "id": "NNKfiSIpF4q4",
        "outputId": "11698df3-73d5-41b1-d28f-1e3aa0bddc88"
      },
      "outputs": [
        {
          "name": "stdout",
          "output_type": "stream",
          "text": [
            "c = 368063488259223267894700840060521865838338232037353204655959621437025609300472231530103873614505175218691345257589896391130393189447969771645832382192366076536631132001776175977932178658703660778465765811830827876982014124022948671975678131724958064427949902810498973271030787716781467419524180040734398996952930832508934116945966120176735120823151959779536852290090377452502236990839453416790640456116471139751546750048602189291028640970574762600185950226138244530187489211615864021135312077912018844630780307462205252807737757672094320692373101032517459518497524015120165166724189816766397247824175394802028228160027100623998873667435799073054618906855460488351426611310634023489044291860510352301912426608488807462312126590206830413782664554260411266378866626653755763627796569082931785645600816236891168141774993267488171702172191072731069216881668294625679492696148976999868715671440874206427212056717373099639711168901197440416590226524192782842896415414611688187391232048327738965820265934093108172054875188246591760877131657895633586576611857277011782497943522945011248430439201297015119468730712364007639373910811953430309476832453230123996750235710787086641070310288725389595138936784715274150426495416196669832679980253436807864187160054589045664027158817958549374490512399055448819148487049363674611664609890030088549591992466360050042566270348330911795487647045949301286614658650071299695652245266080672989921799342509291635330827874264789587306974472327718704306352445925996155619153783913237212716010410294999877569745287353422903443387562746452522860420416689019732913798073773281533570910205207767157128174184873357050830752777900041943256738499067821488421053870869022738698816059810579221002560882999884763252161747566893835178558961142349304466506402373556318707175710866983035313122068321102457824112014969387225476259342872866363550383840720010832906695360553556647545295849966279980830561242960013654529514995113584909050813015198928283202189194615501403435553060147713139766323195743324848047347575473228198492343231496580885057330510949058490527738662697480293583612233134502078182014347192522391449087738579081585795613547198599661273567662441490401862839817822686573112998663038868314974259766039340894024308383451039874674061160538242392803580758232755749310843694194787991556647907091849600704712003371103926967137408125713631396699343733288014254084819379380555174777020843568689927348949484201042595271932630685747613835385434424807024615161848223715989797178155169951121052285149157137697718850449708843330475301440373094611119631361702936342263219382793996895988331701890693689862459020775599439506870005130750427949747071390095256759203426671803377068109744629909769176319526837824364926844730545524646494321826241925107158040561607706364484910978348669388142016838792902926158979355432483611517588605967745393958061959024834251565197963477521095821435651996730128376734574843289089682710350244222290017891280419782767803785277960834729869249991658417000499998999\n"
          ]
        }
      ],
      "source": [
        "c = 999**999\n",
        "print(f\"c = {c}\")  # remember it's still INT !"
      ]
    },
    {
      "cell_type": "markdown",
      "metadata": {
        "id": "Pd0_myS9ds3t"
      },
      "source": [
        "💡 Two stars `**` note power in Python: `2**2` means $2^{2}$."
      ]
    },
    {
      "cell_type": "markdown",
      "metadata": {
        "id": "SlHD4aO7ds3t"
      },
      "source": [
        "👉 You can try it yourself! Use Python as a simple calculator with operations like `1+2`, `3-2`, `3**3`, ...\n",
        "\n"
      ]
    },
    {
      "cell_type": "code",
      "execution_count": null,
      "metadata": {
        "id": "BcBYFPzPds3t"
      },
      "outputs": [],
      "source": [
        "# try it"
      ]
    },
    {
      "cell_type": "markdown",
      "metadata": {
        "id": "97QskfavQ59E"
      },
      "source": [
        "## Types of variables (`type`)."
      ]
    },
    {
      "cell_type": "markdown",
      "metadata": {
        "id": "YsipE2UAds3u"
      },
      "source": [
        "Every variable has a specific type.\n",
        "\n",
        " - A **variable** in Python is a name that stores data values, like numbers or text.\n",
        "    > **variable** is an abstract storage location paired with an associated symbolic name, which contains some known or unknown quantity of data or object referred to as a *value*; or in simpler terms, a variable is a *named container* for a particular set of bits or type of data (like integer, float, string, etc...).\n",
        "\n",
        " - The **variable type** defines the kind of data a variable holds, such as `int` for numbers or `str` for text.\n",
        " - Python automatically detects the type when you assign a value."
      ]
    },
    {
      "cell_type": "markdown",
      "metadata": {
        "id": "4x3tGqCavtVy"
      },
      "source": [
        "| Type         | Description                                | Example                   |\n",
        "|--------------|--------------------------------------------|---------------------------|\n",
        "| int          | Integer values                             | `x = 5`                   |\n",
        "| float        | Floating-point numbers                     | `y = 3.14`                |\n",
        "| complex      | Complex numbers                            | `z = 2 + 3j`              |\n",
        "| bool         | Boolean values (True/False)                | `is_it_raining = False`         |\n",
        "| str          | String values                              | `message = \"Hello, World\"`|\n",
        "| list         | Ordered collection of items                | `my_list = [1, 2, 3]`     |\n",
        "| tuple        | Immutable ordered collection of items      | `my_tuple = (1, 2, 3)`    |\n",
        "| set          | Unordered collection of unique items       | `my_set = {1, 2, 3}`      |\n",
        "| dict         | Collection of key-value pairs              | `my_dict = {'eggs': 6, 'apples': 3, 'cookies': \"chocolate\"}`|\n"
      ]
    },
    {
      "cell_type": "code",
      "execution_count": null,
      "metadata": {
        "id": "kMsRaCgZds3u",
        "outputId": "d698193c-c8fc-4785-e68a-113fe2f30825"
      },
      "outputs": [
        {
          "name": "stdout",
          "output_type": "stream",
          "text": [
            "5\n"
          ]
        }
      ],
      "source": [
        "print(a)"
      ]
    },
    {
      "cell_type": "code",
      "execution_count": null,
      "metadata": {
        "colab": {
          "base_uri": "https://localhost:8080/"
        },
        "id": "bIV306PAS0fH",
        "outputId": "d799510a-1db8-4d23-9700-4e43a0390c44"
      },
      "outputs": [
        {
          "name": "stdout",
          "output_type": "stream",
          "text": [
            "<class 'int'>\n"
          ]
        }
      ],
      "source": [
        "print(type(a))"
      ]
    },
    {
      "cell_type": "code",
      "execution_count": null,
      "metadata": {
        "colab": {
          "base_uri": "https://localhost:8080/"
        },
        "id": "L8MeGdpxRCvl",
        "outputId": "353f2f26-bc9a-42a9-a391-9a032c1395f1"
      },
      "outputs": [
        {
          "name": "stdout",
          "output_type": "stream",
          "text": [
            "<class 'float'>\n"
          ]
        }
      ],
      "source": [
        "print(type(b))"
      ]
    },
    {
      "cell_type": "code",
      "execution_count": null,
      "metadata": {
        "colab": {
          "base_uri": "https://localhost:8080/"
        },
        "id": "gQ_9EzbGRFa5",
        "outputId": "bd3e22d3-ad67-496e-c633-ac5eaea73ea5"
      },
      "outputs": [
        {
          "name": "stdout",
          "output_type": "stream",
          "text": [
            "<class 'str'>\n"
          ]
        }
      ],
      "source": [
        "print(type(pef))"
      ]
    },
    {
      "cell_type": "markdown",
      "metadata": {
        "id": "Ku2FsWT6RMzn"
      },
      "source": [
        "Python is very tolerant when autotyping:"
      ]
    },
    {
      "cell_type": "code",
      "execution_count": null,
      "metadata": {
        "colab": {
          "base_uri": "https://localhost:8080/"
        },
        "id": "MyKovydJRS7A",
        "outputId": "c3d70629-76a6-44a6-bf51-1570f26474fd"
      },
      "outputs": [
        {
          "data": {
            "text/plain": [
              "4.0"
            ]
          },
          "execution_count": 13,
          "metadata": {},
          "output_type": "execute_result"
        }
      ],
      "source": [
        "a + b  # sum of int and float"
      ]
    },
    {
      "cell_type": "code",
      "execution_count": null,
      "metadata": {
        "colab": {
          "base_uri": "https://localhost:8080/",
          "height": 35
        },
        "id": "MfBfwp0LRS1J",
        "outputId": "5b61db14-84f7-4c80-ce0b-fb81cf285395"
      },
      "outputs": [
        {
          "data": {
            "text/plain": [
              "'Provozne ekonomicka fakultaCeska zemedelska universita'"
            ]
          },
          "execution_count": 14,
          "metadata": {},
          "output_type": "execute_result"
        }
      ],
      "source": [
        "czu = 'Ceska zemedelska universita'\n",
        "pef + czu  # sum of two strings (a.k.a. concatenation)"
      ]
    },
    {
      "cell_type": "code",
      "execution_count": null,
      "metadata": {
        "colab": {
          "base_uri": "https://localhost:8080/"
        },
        "id": "M0dRrulvRSv6",
        "outputId": "13dc5b1a-a474-41e6-f568-edbdd956222c"
      },
      "outputs": [
        {
          "name": "stdout",
          "output_type": "stream",
          "text": [
            "I study at Provozne ekonomicka fakulta, Ceska zemedelska universita.\n"
          ]
        }
      ],
      "source": [
        "print(f'I study at {pef}, {czu}.')"
      ]
    },
    {
      "cell_type": "code",
      "execution_count": null,
      "metadata": {
        "colab": {
          "base_uri": "https://localhost:8080/",
          "height": 141
        },
        "id": "wicde9rPRnXj",
        "outputId": "d5bedb50-5127-4afa-92e5-32f5afc7f2e8"
      },
      "outputs": [
        {
          "ename": "TypeError",
          "evalue": "unsupported operand type(s) for +: 'int' and 'str'",
          "output_type": "error",
          "traceback": [
            "\u001b[0;31m---------------------------------------------------------------------------\u001b[0m",
            "\u001b[0;31mTypeError\u001b[0m                                 Traceback (most recent call last)",
            "Cell \u001b[0;32mIn[16], line 1\u001b[0m\n\u001b[0;32m----> 1\u001b[0m \u001b[38;5;28mprint\u001b[39m(\u001b[43ma\u001b[49m\u001b[43m \u001b[49m\u001b[38;5;241;43m+\u001b[39;49m\u001b[43m \u001b[49m\u001b[43mpef\u001b[49m) \u001b[38;5;66;03m# but even Python's patience has its limits\u001b[39;00m\n",
            "\u001b[0;31mTypeError\u001b[0m: unsupported operand type(s) for +: 'int' and 'str'"
          ]
        }
      ],
      "source": [
        "print(a + pef) # but even Python's patience has its limits"
      ]
    },
    {
      "cell_type": "markdown",
      "metadata": {
        "id": "uY5TkM12R3f3"
      },
      "source": [
        "The error above can be avoided with **retyping variables**:"
      ]
    },
    {
      "cell_type": "code",
      "execution_count": null,
      "metadata": {
        "colab": {
          "base_uri": "https://localhost:8080/"
        },
        "id": "Fq5MqzlXR2cI",
        "outputId": "65f1690d-345c-4375-8f27-ab62985bca91"
      },
      "outputs": [
        {
          "name": "stdout",
          "output_type": "stream",
          "text": [
            "type of a is <class 'int'>, but type of a_str is <class 'str'>.\n"
          ]
        }
      ],
      "source": [
        "a_str = str(a)\n",
        "print(f\"type of a is {type(a)}, but type of a_str is {type(a_str)}.\")"
      ]
    },
    {
      "cell_type": "code",
      "execution_count": null,
      "metadata": {
        "colab": {
          "base_uri": "https://localhost:8080/",
          "height": 35
        },
        "id": "-2nAK3u_SI9Z",
        "outputId": "3feb9408-7d32-4195-cc17-4d4cef48f1f7"
      },
      "outputs": [
        {
          "data": {
            "text/plain": [
              "'Provozne ekonomicka fakulta2'"
            ]
          },
          "execution_count": 18,
          "metadata": {},
          "output_type": "execute_result"
        }
      ],
      "source": [
        "pef + a_str  # now we can concatenate two strings"
      ]
    },
    {
      "cell_type": "markdown",
      "metadata": {
        "id": "uPqFOZoQxExZ"
      },
      "source": [
        "## Input"
      ]
    },
    {
      "cell_type": "code",
      "execution_count": null,
      "metadata": {
        "colab": {
          "base_uri": "https://localhost:8080/"
        },
        "id": "3EFZeIuPGJcF",
        "outputId": "301d2df7-1a09-4bee-860d-85d2823ddca6"
      },
      "outputs": [
        {
          "name": "stdout",
          "output_type": "stream",
          "text": [
            "You entered: Alexx.\n"
          ]
        }
      ],
      "source": [
        "user_name = input(\"Enter your name --> \")\n",
        "print(f'You entered: {user_name}.')"
      ]
    },
    {
      "cell_type": "markdown",
      "metadata": {
        "id": "St_qOLCcds3z"
      },
      "source": [
        "### ✍️ Your turn:\n",
        "**task:** write a code that will\n",
        " - ask user to enter his/her name and save it\n",
        " - ask user to enter his/her year of birth and save it\n",
        " - print out how old the user is (in years)"
      ]
    },
    {
      "cell_type": "code",
      "execution_count": null,
      "metadata": {
        "id": "LvQP9ojBGJYo"
      },
      "outputs": [],
      "source": [
        "# your code here ..."
      ]
    },
    {
      "cell_type": "markdown",
      "metadata": {
        "id": "G4saXuPJ1nEK"
      },
      "source": [
        "## Packages - how to import and work with them\n",
        "\n",
        " - a package in Python can contain variables, functions, ... basically any object\n",
        " - some are built-in, most of them needs to be installed\n",
        " - library of all packages available: [https://pypi.org/](https://pypi.org/)\n",
        " - in Colab, some popular libraries are pre-installed. Other you can install with `!pip install <package_name>`\n",
        "\n",
        "\n"
      ]
    },
    {
      "cell_type": "code",
      "execution_count": null,
      "metadata": {
        "id": "ul4yMQxdGJWC"
      },
      "outputs": [],
      "source": [
        "import math  # import of package 'math'"
      ]
    },
    {
      "cell_type": "code",
      "execution_count": null,
      "metadata": {
        "colab": {
          "base_uri": "https://localhost:8080/"
        },
        "id": "04WWcw7yGJTw",
        "outputId": "d13b9c53-8e32-4534-cd0b-53b4ff0c4e6a"
      },
      "outputs": [
        {
          "name": "stdout",
          "output_type": "stream",
          "text": [
            "3.141592653589793\n"
          ]
        }
      ],
      "source": [
        "print(math.pi)  # variable form package"
      ]
    },
    {
      "cell_type": "markdown",
      "metadata": {
        "id": "ED29xjTy3b6F"
      },
      "source": [
        " - some packages have long name -> when importing, we can rename them:"
      ]
    },
    {
      "cell_type": "code",
      "execution_count": null,
      "metadata": {
        "colab": {
          "base_uri": "https://localhost:8080/"
        },
        "id": "u88EgSah3FRx",
        "outputId": "2e48e6cb-c78a-41e7-d9b5-c70687f031db"
      },
      "outputs": [
        {
          "name": "stdout",
          "output_type": "stream",
          "text": [
            "3.141592653589793\n"
          ]
        }
      ],
      "source": [
        "import math as mt\n",
        "print(mt.pi)"
      ]
    },
    {
      "cell_type": "markdown",
      "metadata": {
        "id": "GzS5TKAR3wgi"
      },
      "source": [
        " - when we need a specific object from a package, we can import only the object(s):"
      ]
    },
    {
      "cell_type": "code",
      "execution_count": null,
      "metadata": {
        "id": "MUSj92De3FLO"
      },
      "outputs": [],
      "source": [
        "from math import sin, pi"
      ]
    },
    {
      "cell_type": "code",
      "execution_count": null,
      "metadata": {
        "colab": {
          "base_uri": "https://localhost:8080/"
        },
        "id": "XiiDtuU43FEf",
        "outputId": "998699f1-007d-4f92-b1f0-fde9f9e0c548"
      },
      "outputs": [
        {
          "name": "stdout",
          "output_type": "stream",
          "text": [
            "1.0\n"
          ]
        }
      ],
      "source": [
        "# now we can use imported objects directly:\n",
        "print( sin(pi/2) )"
      ]
    },
    {
      "cell_type": "markdown",
      "metadata": {
        "id": "vXBk9MqyCrBG"
      },
      "source": [
        "## Conditions. Boolean variables.\n",
        "\n",
        " - compound statement (which begins a condition, a cycle, a definition of function or a class) begins with **keyword**, line ends with **colon**, and the block of code inside is **idented via spaces** (ie. no `begin-end`, no `(...){...}`, etc. are needed in Python -> makes code more readable). \\\n",
        " Example:\n",
        "\n"
      ]
    },
    {
      "cell_type": "code",
      "execution_count": null,
      "metadata": {
        "colab": {
          "base_uri": "https://localhost:8080/"
        },
        "id": "gGy5Sh7f3E-g",
        "outputId": "2629b7f6-938d-436e-dc43-8cb8fca16ef2"
      },
      "outputs": [
        {
          "name": "stdout",
          "output_type": "stream",
          "text": [
            "a is greater than 3.\n"
          ]
        }
      ],
      "source": [
        "if a > 3:\n",
        "    print(f\"a is greater than 3.\")\n",
        "else:\n",
        "    print(f\"a isn't greater than 3.\")"
      ]
    },
    {
      "cell_type": "markdown",
      "metadata": {
        "id": "rA_HsmmuDq7d"
      },
      "source": [
        " - level of indentation can be any of your choice, but should be consistent\n",
        " - **Good convention is 4 spaces.**"
      ]
    },
    {
      "cell_type": "markdown",
      "metadata": {
        "id": "e48O5C7QE-5W"
      },
      "source": [
        " - Python does not have any `switch-case` formalism, `if-elif-else` is all you need:"
      ]
    },
    {
      "cell_type": "code",
      "execution_count": null,
      "metadata": {
        "colab": {
          "base_uri": "https://localhost:8080/"
        },
        "id": "XNuI_vvK3E4h",
        "outputId": "ac4ce80f-fb3c-42af-adf0-0c61c5e27b24"
      },
      "outputs": [
        {
          "name": "stdout",
          "output_type": "stream",
          "text": [
            "I can compute it on one hand.\n"
          ]
        }
      ],
      "source": [
        "# let's force a 5 y.o. child to count on fingers\n",
        "a = 5  # target number\n",
        "if a > 10:\n",
        "    print(\"Not enough fingers for this.\")\n",
        "elif a > 5:\n",
        "    print(\"I need both hands for this computation.\")\n",
        "elif a >= 0:\n",
        "    print(\"I can compute it on one hand.\")\n",
        "else:\n",
        "    print(\"I don't know what negative number is.\")"
      ]
    },
    {
      "cell_type": "markdown",
      "metadata": {
        "id": "_8Pr8TVsds32"
      },
      "source": [
        "### ✍️ Your turn:\n",
        "**task:** write a code that will ask to enter year of birth of the user and return if the year is odd or even"
      ]
    },
    {
      "cell_type": "markdown",
      "metadata": {
        "id": "_h2xbrA9ds32"
      },
      "source": [
        "💡 Hint: `x % y` gives the remainder after dividing `x` by `y`."
      ]
    },
    {
      "cell_type": "code",
      "execution_count": null,
      "metadata": {
        "id": "fOls1gHDds32"
      },
      "outputs": [],
      "source": [
        "# your code here ..."
      ]
    },
    {
      "cell_type": "markdown",
      "metadata": {
        "id": "-XqDl-okHMaM"
      },
      "source": [
        "## Logical operators, boolean values.\n",
        "\n",
        "| Keyword/Operator | Description                                             |\n",
        "|------------------|---------------------------------------------------------|\n",
        "| `True`           | Represents the boolean value true                       |\n",
        "| `False`          | Represents the boolean value false                      |\n",
        "| `and`            | Logical operator 'and' - Returns True if both operands are true, otherwise False |\n",
        "| `or`             | Logical operator 'or' - Returns True if at least one operand is true, otherwise False |\n",
        "| `not`            | Logical operator 'not' - Returns the opposite of the operand's boolean value |\n"
      ]
    },
    {
      "cell_type": "markdown",
      "metadata": {
        "id": "YMSCBxITds33"
      },
      "source": [
        "Note the capital letters in bool values."
      ]
    },
    {
      "cell_type": "code",
      "execution_count": null,
      "metadata": {
        "id": "g2k52z9tds33",
        "outputId": "2e042380-3e38-4509-a377-f20ba94439e8"
      },
      "outputs": [
        {
          "data": {
            "text/plain": [
              "False"
            ]
          },
          "execution_count": 37,
          "metadata": {},
          "output_type": "execute_result"
        }
      ],
      "source": [
        "not True"
      ]
    },
    {
      "cell_type": "code",
      "execution_count": null,
      "metadata": {
        "id": "pozhWNHKds33",
        "outputId": "0e84bc2c-7c08-422f-e711-5ba56e04bad2"
      },
      "outputs": [
        {
          "data": {
            "text/plain": [
              "True"
            ]
          },
          "execution_count": 39,
          "metadata": {},
          "output_type": "execute_result"
        }
      ],
      "source": [
        "not False"
      ]
    },
    {
      "cell_type": "code",
      "execution_count": null,
      "metadata": {
        "id": "cFncwIVI3Era",
        "outputId": "c0367f30-29b7-4902-8954-1c57f9a43ada"
      },
      "outputs": [
        {
          "data": {
            "text/plain": [
              "False"
            ]
          },
          "execution_count": 35,
          "metadata": {},
          "output_type": "execute_result"
        }
      ],
      "source": [
        "True and False"
      ]
    },
    {
      "cell_type": "code",
      "execution_count": null,
      "metadata": {
        "id": "s5QAi2Qcds34",
        "outputId": "bf687fb6-d88b-4d6b-e60f-716bd72a5157"
      },
      "outputs": [
        {
          "data": {
            "text/plain": [
              "True"
            ]
          },
          "execution_count": 36,
          "metadata": {},
          "output_type": "execute_result"
        }
      ],
      "source": [
        "True or False"
      ]
    },
    {
      "cell_type": "code",
      "execution_count": null,
      "metadata": {
        "id": "GV34W6Ayds34"
      },
      "outputs": [],
      "source": []
    },
    {
      "cell_type": "code",
      "execution_count": null,
      "metadata": {
        "id": "MdOPucx83Elp"
      },
      "outputs": [],
      "source": []
    },
    {
      "cell_type": "code",
      "execution_count": null,
      "metadata": {
        "id": "hpAL0rFG3Edq"
      },
      "outputs": [],
      "source": []
    },
    {
      "cell_type": "code",
      "execution_count": null,
      "metadata": {
        "id": "6qHCslIDGJRC"
      },
      "outputs": [],
      "source": []
    },
    {
      "cell_type": "code",
      "execution_count": null,
      "metadata": {
        "id": "zOflObAqGJLj"
      },
      "outputs": [],
      "source": []
    },
    {
      "cell_type": "markdown",
      "metadata": {
        "id": "0Nscmeu8Clmf"
      },
      "source": [
        "## P.S."
      ]
    },
    {
      "cell_type": "code",
      "execution_count": null,
      "metadata": {
        "colab": {
          "base_uri": "https://localhost:8080/"
        },
        "id": "z0Hh01tYS0T5",
        "outputId": "32f91eb8-ccf9-4be6-a226-87a46c1f897d"
      },
      "outputs": [
        {
          "name": "stdout",
          "output_type": "stream",
          "text": [
            "False\n",
            "None\n",
            "True\n",
            "and\n",
            "as\n",
            "assert\n",
            "async\n",
            "await\n",
            "break\n",
            "class\n",
            "continue\n",
            "def\n",
            "del\n",
            "elif\n",
            "else\n",
            "except\n",
            "finally\n",
            "for\n",
            "from\n",
            "global\n",
            "if\n",
            "import\n",
            "in\n",
            "is\n",
            "lambda\n",
            "nonlocal\n",
            "not\n",
            "or\n",
            "pass\n",
            "raise\n",
            "return\n",
            "try\n",
            "while\n",
            "with\n",
            "yield\n"
          ]
        }
      ],
      "source": [
        "import keyword\n",
        "\n",
        "def print_all_keywords():\n",
        "    \"\"\"\n",
        "    function that gets a list of all Python keywords and prints it out.\n",
        "    \"\"\"\n",
        "    keywords = keyword.kwlist\n",
        "    for kw in keywords:\n",
        "        print(kw)\n",
        "    return None  # optional\n",
        "\n",
        "print_all_keywords()"
      ]
    },
    {
      "cell_type": "code",
      "execution_count": null,
      "metadata": {
        "id": "SgnGLEW8SR72"
      },
      "outputs": [],
      "source": []
    }
  ],
  "metadata": {
    "colab": {
      "provenance": [],
      "include_colab_link": true
    },
    "kernelspec": {
      "display_name": "Python 3",
      "name": "python3"
    },
    "language_info": {
      "codemirror_mode": {
        "name": "ipython",
        "version": 3
      },
      "file_extension": ".py",
      "mimetype": "text/x-python",
      "name": "python",
      "nbconvert_exporter": "python",
      "pygments_lexer": "ipython3",
      "version": "3.10.13"
    }
  },
  "nbformat": 4,
  "nbformat_minor": 0
}